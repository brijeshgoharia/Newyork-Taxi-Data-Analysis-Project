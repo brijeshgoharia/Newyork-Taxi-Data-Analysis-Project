{
 "cells": [
  {
   "cell_type": "code",
   "execution_count": 3,
   "metadata": {},
   "outputs": [],
   "source": [
    "import findspark\n",
    "findspark.init()\n",
    "import pyspark"
   ]
  },
  {
   "cell_type": "code",
   "execution_count": 4,
   "metadata": {},
   "outputs": [],
   "source": [
    "import os\n",
    "port = 4040 + hash(os.getcwd().split(\"/\")[2])%200\n",
    "\n",
    "config = pyspark.SparkConf().set('spark.executor.memory', '512M')\\\n",
    "            .set('spark.cores.max', '10')\\\n",
    "            .set('spark.port.maxRetries','200')\\\n",
    "            .set('spark.ui.port', port)\\\n",
    "            .set('spark.master', 'spark://polyp1:7077')\\\n",
    "            .set('spark.app.name', \"structuredComputation\")\n",
    "\n",
    "#sc = pyspark.SparkContext(conf = config)\n",
    "ss = pyspark.sql.SparkSession.builder.config(conf = config).getOrCreate()\n",
    "\n",
    "# print ss.conf.get('spark.app.name')\n",
    "# print ss.conf.get('spark.master')"
   ]
  },
  {
   "cell_type": "code",
   "execution_count": 5,
   "metadata": {},
   "outputs": [],
   "source": [
    "# Input data\n",
    "sc = ss.sparkContext\n",
    "GreenTaxi = sc.textFile(\"/scratch/ISE495/taxi_data\")"
   ]
  },
  {
   "cell_type": "code",
   "execution_count": 6,
   "metadata": {},
   "outputs": [
    {
     "name": "stdout",
     "output_type": "stream",
     "text": [
      "VendorID,lpep_pickup_datetime,Lpep_dropoff_datetime,Store_and_fwd_flag,RateCodeID,Pickup_longitude,Pickup_latitude,Dropoff_longitude,Dropoff_latitude,Passenger_count,Trip_distance,Fare_amount,Extra,MTA_tax,Tip_amount,Tolls_amount,Ehail_fee,improvement_surcharge,Total_amount,Payment_type,Trip_type \n",
      "\n",
      "2,2015-09-01 00:02:34,2015-09-01 00:02:38,N,5,-73.979484558105469,40.684955596923828,-73.97943115234375,40.685020446777344,1,.00,7.8,0,0,1.95,0,,0,9.75,1,2 \n",
      "\n",
      "2,2015-09-01 00:04:20,2015-09-01 00:04:24,N,5,-74.010795593261719,40.912216186523438,-74.010780334472656,40.912212371826172,1,.00,45,0,0,0,0,,0,45,1,2 \n",
      "\n",
      "2,2015-09-01 00:01:50,2015-09-01 00:04:24,N,1,-73.921409606933594,40.766708374023438,-73.914413452148438,40.764686584472656,1,.59,4,0.5,0.5,0.5,0,,0.3,5.8,1,1 \n",
      "\n",
      "2,2015-09-01 00:02:36,2015-09-01 00:06:42,N,1,-73.92138671875,40.766677856445313,-73.931427001953125,40.771583557128906,1,.74,5,0.5,0.5,0,0,,0.3,6.3,2,1 \n",
      "\n"
     ]
    }
   ],
   "source": [
    "for i in GreenTaxi.take(5):\n",
    "    print i,\"\\n\""
   ]
  },
  {
   "cell_type": "code",
   "execution_count": 7,
   "metadata": {},
   "outputs": [],
   "source": [
    "# Creating function to get 'header' of the dataset along with 'index' for each header for future reference in data analysis\n",
    "def headsep(s):\n",
    "    i = 0\n",
    "    f = []\n",
    "    for i in range(len(s)):\n",
    "        f.append([s[i],i])\n",
    "    return f\n",
    "        "
   ]
  },
  {
   "cell_type": "code",
   "execution_count": 8,
   "metadata": {},
   "outputs": [
    {
     "name": "stdout",
     "output_type": "stream",
     "text": [
      "[[[u'VendorID', 0], [u'lpep_pickup_datetime', 1], [u'Lpep_dropoff_datetime', 2], [u'Store_and_fwd_flag', 3], [u'RateCodeID', 4], [u'Pickup_longitude', 5], [u'Pickup_latitude', 6], [u'Dropoff_longitude', 7], [u'Dropoff_latitude', 8], [u'Passenger_count', 9], [u'Trip_distance', 10], [u'Fare_amount', 11], [u'Extra', 12], [u'MTA_tax', 13], [u'Tip_amount', 14], [u'Tolls_amount', 15], [u'Ehail_fee', 16], [u'improvement_surcharge', 17], [u'Total_amount', 18], [u'Payment_type', 19], [u'Trip_type', 20]]]\n"
     ]
    }
   ],
   "source": [
    "# [Header, Index] view\n",
    "head = GreenTaxi.filter(lambda x: x[0:2] == 'Ve').map(lambda x:x.split(\",\")).map(headsep)\n",
    "print head.collect()"
   ]
  },
  {
   "cell_type": "code",
   "execution_count": 9,
   "metadata": {},
   "outputs": [
    {
     "name": "stdout",
     "output_type": "stream",
     "text": [
      "Total Trips: 1495926\n",
      "Trips from New York to New York: 865242\n",
      "Trips from New Jersey to New Jersey: 449317\n",
      "Trips from New York to New Jersey: 144218\n",
      "Trips from New Jersey to New York: 37149\n",
      "verify: 1495926\n"
     ]
    }
   ],
   "source": [
    "#Task 1: Green Taxi Data Analysis using Map & Reduce functions \n",
    "\n",
    "#Task 1.1: Creating 4 Trip Categories - New york to New york (nyny);New Jersey to New Jersey (njnj); New york to New Jersey (nynj); New Jersey to New york (njny)\n",
    "\n",
    "rDD = GreenTaxi.filter(lambda x: x[0:2] != 'Ve').map(lambda x:x.split(\",\"))\n",
    "print 'Total Trips:',rDD.count()\n",
    "nyny = rDD.filter(lambda y: (float(y[6])<(1.323942*float(y[5]) + 138.669195)) &(float(y[8])<(1.323942*float(y[7]) + 138.669195)))\n",
    "nynyTrips = nyny.count()\n",
    "print 'Trips from New York to New York:',nynyTrips\n",
    "njnj = rDD.filter(lambda y: (float(y[6])>(1.323942*float(y[5]) + 138.669195)) &(float(y[8])>(1.323942*float(y[7]) + 138.669195)))\n",
    "njnjTrips = njnj.count()\n",
    "print 'Trips from New Jersey to New Jersey:',njnjTrips\n",
    "nynj = rDD.filter(lambda y: (float(y[6])<(1.323942*float(y[5]) + 138.669195)) &(float(y[8])>(1.323942*float(y[7]) + 138.669195)))\n",
    "nynjTrips = nynj.count()\n",
    "print 'Trips from New York to New Jersey:',nynjTrips\n",
    "njny = rDD.filter(lambda y: (float(y[6])>(1.323942*float(y[5]) + 138.669195)) &(float(y[8])<(1.323942*float(y[7]) + 138.669195)))\n",
    "njnyTrips = njny.count()\n",
    "print 'Trips from New Jersey to New York:',njnyTrips\n",
    "print 'verify:',nyny.count() + njnj.count() + njny.count() + nynj.count()"
   ]
  },
  {
   "cell_type": "code",
   "execution_count": 12,
   "metadata": {},
   "outputs": [],
   "source": [
    "# for plot\n",
    "tripsarr = [nynyTrips,njnjTrips,nynjTrips,njnyTrips]\n",
    "tripsarrnames = [\"nynyTrips\",\"njnjTrips\",\"nynjTrips\",\"njnyTrips\"]"
   ]
  },
  {
   "cell_type": "code",
   "execution_count": 15,
   "metadata": {},
   "outputs": [
    {
     "data": {
      "image/png": "[encoded data removed]",
      "text/plain": [
       "<Figure size 432x288 with 1 Axes>"
      ]
     },
     "metadata": {},
     "output_type": "display_data"
    }
   ],
   "source": [
    "# Histogram of Trip Categories\n",
    "import numpy as np\n",
    "from  matplotlib import pyplot as plt\n",
    "r1 = np.arange(len(tripsarr))\n",
    "plt.grid(True)\n",
    "plt.bar(r1, tripsarr, width=0.25, edgecolor='white', label='comp1')\n",
    "plt.xlabel('Trip category', fontweight='bold')\n",
    "plt.ylabel('Count', fontweight='bold')\n",
    "plt.xticks([r for r in range(len(tripsarrnames))], tripsarrnames)\n",
    "plt.show()\n"
   ]
  },
  {
   "cell_type": "code",
   "execution_count": 19,
   "metadata": {},
   "outputs": [],
   "source": [
    "\n",
    "#create the 4 pair buckets\n",
    "def statescategories(taxi):\n",
    "    RDD=taxi.split(\",\")\n",
    "    \n",
    "\n",
    "    plon= float(RDD[5])\n",
    "    plat= float(RDD[6])\n",
    "    dlon= float(RDD[7])\n",
    "    dlat= float(RDD[8])\n",
    "        \n",
    "    if plat>1.323942*plon+138.669195:\n",
    "        pickup_location=\"NJ\"\n",
    "    else:\n",
    "         pickup_location=\"NY\"\n",
    "       \n",
    "    if dlat>1.323942*dlon+138.669195:\n",
    "        dropoff_location=\"NJ\"\n",
    "    else:\n",
    "        dropoff_location=\"NY\"\n",
    "       \n",
    "        \n",
    "    return pickup_location, dropoff_location\n",
    "\n"
   ]
  },
  {
   "cell_type": "code",
   "execution_count": null,
   "metadata": {},
   "outputs": [],
   "source": [
    "pairedRDD=GreenTaxi.map(statescategories)\n",
    "print pairedRDD.take(5)\n",
    "print pairedRDD.count()"
   ]
  },
  {
   "cell_type": "code",
   "execution_count": null,
   "metadata": {},
   "outputs": [],
   "source": [
    "parsedData=pairedRDD.map(lambda x:(x,1)).reduceByKey(lambda a,b:a+b).collect()"
   ]
  },
  {
   "cell_type": "code",
   "execution_count": null,
   "metadata": {},
   "outputs": [],
   "source": [
    "#Graph Co ordinates\n",
    "\n",
    "X=[]\n",
    "Y=[]\n",
    "for i in range(len(parsedData)):\n",
    "    X.append(str(parsedData[i][0]))\n",
    "for i in range(len(parsedData)):\n",
    "    Y.append(parsedData[i][1])\n",
    "print X, Y\n",
    "print type(Y[1])"
   ]
  },
  {
   "cell_type": "code",
   "execution_count": null,
   "metadata": {},
   "outputs": [],
   "source": [
    "from  matplotlib import pyplot as plt\n",
    "plt.xlabel(\"Pickup time\")\n",
    "plt.ylabel(\"Trip Count\")\n",
    "plt.grid(True)\n",
    "plt.bar(X,Y)\n",
    "plt.show()"
   ]
  },
  {
   "cell_type": "code",
   "execution_count": null,
   "metadata": {},
   "outputs": [],
   "source": [
    "#Inference: Maximum number of trips are intra -Borough (NY-NY) and (NJ-NJ)\n",
    "#A)Inferencing NY-NY transit data"
   ]
  },
  {
   "cell_type": "code",
   "execution_count": null,
   "metadata": {},
   "outputs": [],
   "source": [
    "#Trip Count VS Pickup Time\n",
    "#Convert the Time-stamp\n",
    "from datetime import datetime\n",
    "def timestamp(time):\n",
    "    \n",
    "    RDD=time.split(\",\")\n",
    "    date=RDD[1].split(\" \")\n",
    "    RDD.insert(len(RDD),datetime.strptime(date[0], '%Y-%m-%d').date())\n",
    "    RDD.insert(len(RDD),datetime.strptime(date[1], '%H:%M:%S').strftime(\"%H\"))\n",
    "    RDD.remove((RDD)[1])\n",
    "    \n",
    "    date=RDD[1].split(\" \")\n",
    "    RDD.insert(len(RDD),datetime.strptime(date[0], '%Y-%m-%d').date())\n",
    "    RDD.insert(len(RDD),datetime.strptime(date[1], '%H:%M:%S').strftime(\"%H\"))#Extracting only hours\n",
    "    RDD.remove((RDD)[1])\n",
    "    \n",
    "    return RDD"
   ]
  },
  {
   "cell_type": "code",
   "execution_count": null,
   "metadata": {},
   "outputs": [],
   "source": [
    "pairedRDD1=taxi.map(timestamp)\n",
    "print pairedRDD1.take(1)\n",
    "print pairedRDD1.take(1)[0][-1]"
   ]
  },
  {
   "cell_type": "code",
   "execution_count": null,
   "metadata": {},
   "outputs": [],
   "source": [
    "def dict(line):\n",
    "    dict=[]\n",
    "    dict.append([line[-3],1])\n",
    "    return dict\n",
    "\n",
    "RDD2=pairedRDD1.flatMap(dict).reduceByKey(lambda a,b: a+b)\n",
    "\n",
    "#print RDD2.collect()\n",
    "RDD3=RDD2.collect()\n",
    "print RDD3"
   ]
  },
  {
   "cell_type": "code",
   "execution_count": null,
   "metadata": {},
   "outputs": [],
   "source": [
    "#Graph Co ordinates\n",
    "\n",
    "X=[]\n",
    "Y=[]\n",
    "for i in range(len(RDD3)):\n",
    "    X.append(str(RDD3[i][0]))\n",
    "for i in range(len(RDD3)):\n",
    "    Y.append(RDD3[i][1])\n",
    "    X=sorted(X)\n",
    "    Y=sorted(Y)\n",
    "print X, Y\n",
    "print type(Y[1])"
   ]
  },
  {
   "cell_type": "code",
   "execution_count": null,
   "metadata": {},
   "outputs": [],
   "source": [
    "#Graph Co ordinates\n",
    "\n",
    "X=[]\n",
    "Y=[]\n",
    "for i in range(len(RDD3)):\n",
    "    X.append(str(RDD3[i][0]))\n",
    "for i in range(len(RDD3)):\n",
    "    Y.append(RDD3[i][1])\n",
    "    X=sorted(X)\n",
    "    Y=sorted(Y)\n",
    "print X, Y\n",
    "print type(Y[1])"
   ]
  },
  {
   "cell_type": "code",
   "execution_count": null,
   "metadata": {},
   "outputs": [],
   "source": [
    "from  matplotlib import pyplot as plt\n",
    "plt.xlabel(\"Pickup_Hours\")\n",
    "plt.ylabel(\"Ride_Count\")\n",
    "plt.grid(True)\n",
    "plt.bar(X,Y)\n",
    "plt.show()"
   ]
  },
  {
   "cell_type": "code",
   "execution_count": null,
   "metadata": {},
   "outputs": [],
   "source": [
    "#NY-NY: Pickup Hrs vs Total Trip"
   ]
  },
  {
   "cell_type": "code",
   "execution_count": null,
   "metadata": {},
   "outputs": [],
   "source": [
    "rDD = taxi.filter(lambda x: x[0:2] != 'Ve').map(lambda x:x.split(\",\"))\n",
    "nyny1 = rDD.filter(lambda y: (float(y[6])<(1.323942*float(y[5]) + 138.669195)) &(float(y[8])<(1.323942*float(y[7]) + 138.669195)))\\\n",
    "        .map(lambda y: [y[0],(datetime.strptime(y[1], \"%Y-%m-%d %H:%M:%S\")),(datetime.strptime(y[2], \"%Y-%m-%d %H:%M:%S\")),\\\n",
    "        y[3],y[4],y[5],y[6],y[7],y[8],y[9],y[10],y[11],y[12],y[13],y[14],y[15],y[16],y[17],y[18],y[19],y[20],(datetime.strptime(y[1].split(\" \")[0], \"%Y-%m-%d\").date()),\\\n",
    "        (datetime.strptime(y[1].split(\" \")[1], \"%H:%M:%S\").strftime(\"%H\"))])\n"
   ]
  },
  {
   "cell_type": "code",
   "execution_count": null,
   "metadata": {},
   "outputs": [],
   "source": [
    "print nyny1.take(1)"
   ]
  },
  {
   "cell_type": "code",
   "execution_count": null,
   "metadata": {},
   "outputs": [],
   "source": [
    "def dict1(line):\n",
    "    dict1=[]\n",
    "    dict1.append([line[-1],1])\n",
    "    return dict1\n",
    "\n",
    "RDD4=nyny1.flatMap(dict1).reduceByKey(lambda a,b: a+b)\n",
    "\n",
    "#print RDD2.collect()\n",
    "RDD5=RDD4.collect()\n",
    "print RDD5"
   ]
  },
  {
   "cell_type": "code",
   "execution_count": null,
   "metadata": {},
   "outputs": [],
   "source": [
    "#Graph Co ordinates\n",
    "\n",
    "X=[]\n",
    "Y=[]\n",
    "for i in range(len(RDD5)):\n",
    "    X.append(str(RDD5[i][0]))\n",
    "for i in range(len(RDD5)):\n",
    "    Y.append(RDD5[i][1])\n",
    "    X=sorted(X)\n",
    "    Y=sorted(Y)\n",
    "print X, Y"
   ]
  },
  {
   "cell_type": "code",
   "execution_count": null,
   "metadata": {},
   "outputs": [],
   "source": [
    "from  matplotlib import pyplot as plt\n",
    "plt.xlabel(\"Pickup_Hours\")\n",
    "plt.ylabel(\"Ride_Count\")\n",
    "plt.title(\"NY-NY Transit\")\n",
    "plt.grid(True)\n",
    "plt.bar(X,Y)\n",
    "plt.show()"
   ]
  },
  {
   "cell_type": "code",
   "execution_count": null,
   "metadata": {},
   "outputs": [],
   "source": [
    "#NJ-NJ transit \n",
    "njnj1 = rDD.filter(lambda y: (float(y[6])>(1.323942*float(y[5]) + 138.669195)) &(float(y[8])>(1.323942*float(y[7]) + 138.669195)))\\\n",
    "        .map(lambda y: [y[0],(datetime.strptime(y[1], \"%Y-%m-%d %H:%M:%S\")),(datetime.strptime(y[2], \"%Y-%m-%d %H:%M:%S\")),\\\n",
    "                        y[3],y[4],y[5],y[6],y[7],y[8],y[9],y[10],y[11],y[12],y[13],y[14],y[15],y[16],y[17],y[18],y[19],y[20],\\\n",
    "                        (datetime.strptime(y[1].split(\" \")[0], \"%Y-%m-%d\").date()),(datetime.strptime(y[1].split(\" \")[1], \"%H:%M:%S\").strftime(\"%H\"))])"
   ]
  },
  {
   "cell_type": "code",
   "execution_count": null,
   "metadata": {},
   "outputs": [],
   "source": [
    "print njnj1.take(1)"
   ]
  },
  {
   "cell_type": "code",
   "execution_count": null,
   "metadata": {},
   "outputs": [],
   "source": [
    "def dict2(line):\n",
    "    dict2=[]\n",
    "    dict2.append([line[-1],1])\n",
    "    return dict2\n",
    "\n",
    "RDD6=njnj1.flatMap(dict2).reduceByKey(lambda a,b: a+b)\n",
    "\n",
    "#print RDD2.collect()\n",
    "RDD7=RDD6.collect()\n",
    "print RDD7"
   ]
  },
  {
   "cell_type": "code",
   "execution_count": null,
   "metadata": {},
   "outputs": [],
   "source": [
    "#Graph Co ordinates\n",
    "\n",
    "X=[]\n",
    "Y=[]\n",
    "for i in range(len(RDD7)):\n",
    "    X.append(str(RDD7[i][0]))\n",
    "for i in range(len(RDD7)):\n",
    "    Y.append(RDD7[i][1])\n",
    "    X=sorted(X)\n",
    "    Y=sorted(Y)\n",
    "print X, Y\n"
   ]
  },
  {
   "cell_type": "code",
   "execution_count": null,
   "metadata": {},
   "outputs": [],
   "source": [
    "from  matplotlib import pyplot as plt\n",
    "plt.xlabel(\"Pickup_Hours\")\n",
    "plt.ylabel(\"Ride_Count\")\n",
    "plt.title(\"NJ-NJ Transit\")\n",
    "plt.grid(True)\n",
    "plt.bar(X,Y)\n",
    "plt.show()"
   ]
  },
  {
   "cell_type": "code",
   "execution_count": null,
   "metadata": {},
   "outputs": [],
   "source": [
    "#NY-NJ transit \n",
    "nynj1 = rDD.filter(lambda y: (float(y[6])<(1.323942*float(y[5]) + 138.669195)) &(float(y[8])>(1.323942*float(y[7]) + 138.669195))).map(lambda y: [y[0],(datetime.strptime(y[1], \"%Y-%m-%d %H:%M:%S\")),(datetime.strptime(y[2], \"%Y-%m-%d %H:%M:%S\")),y[3],y[4],y[5],y[6],y[7],y[8],y[9],y[10],y[11],y[12],y[13],y[14],y[15],y[16],y[17],y[18],y[19],y[20],(datetime.strptime(y[1].split(\" \")[0], \"%Y-%m-%d\").date()),(datetime.strptime(y[1].split(\" \")[1], \"%H:%M:%S\").strftime(\"%H\"))])\n",
    "print nynj1.count()"
   ]
  },
  {
   "cell_type": "code",
   "execution_count": null,
   "metadata": {},
   "outputs": [],
   "source": [
    "def dict3(line):\n",
    "    dict3=[]\n",
    "    dict3.append([line[-1],1])\n",
    "    return dict3\n",
    "\n",
    "RDD8=nynj1.flatMap(dict3).reduceByKey(lambda a,b: a+b)\n",
    "\n",
    "#print RDD2.collect()\n",
    "RDD9=RDD8.collect()\n",
    "print RDD9"
   ]
  },
  {
   "cell_type": "code",
   "execution_count": null,
   "metadata": {},
   "outputs": [],
   "source": [
    "#Graph Co ordinates\n",
    "\n",
    "X=[]\n",
    "Y=[]\n",
    "for i in range(len(RDD9)):\n",
    "    X.append(str(RDD9[i][0]))\n",
    "for i in range(len(RDD9)):\n",
    "    Y.append(RDD9[i][1])\n",
    "    X=sorted(X)\n",
    "    Y=sorted(Y)\n",
    "print X, Y"
   ]
  },
  {
   "cell_type": "code",
   "execution_count": null,
   "metadata": {},
   "outputs": [],
   "source": [
    "from  matplotlib import pyplot as plt\n",
    "plt.xlabel(\"Pickup_Hours\")\n",
    "plt.ylabel(\"Ride_Count\")\n",
    "plt.title(\"NY-NJ Transit\")\n",
    "plt.grid(True)\n",
    "plt.bar(X,Y)\n",
    "plt.show()"
   ]
  },
  {
   "cell_type": "code",
   "execution_count": null,
   "metadata": {},
   "outputs": [],
   "source": [
    "#NJ-NY transit \n",
    "njny1 = rDD.filter(lambda y: (float(y[6])>(1.323942*float(y[5]) + 138.669195)) &(float(y[8])<(1.323942*float(y[7]) + 138.669195))).map(lambda y: [y[0],(datetime.strptime(y[1], \"%Y-%m-%d %H:%M:%S\")),(datetime.strptime(y[2], \"%Y-%m-%d %H:%M:%S\")),y[3],y[4],y[5],y[6],y[7],y[8],y[9],y[10],y[11],y[12],y[13],y[14],y[15],y[16],y[17],y[18],y[19],y[20],(datetime.strptime(y[1].split(\" \")[0], \"%Y-%m-%d\").date()),(datetime.strptime(y[1].split(\" \")[1], \"%H:%M:%S\").strftime(\"%H\"))])"
   ]
  },
  {
   "cell_type": "code",
   "execution_count": null,
   "metadata": {},
   "outputs": [],
   "source": [
    "print njny1.count()"
   ]
  },
  {
   "cell_type": "code",
   "execution_count": null,
   "metadata": {},
   "outputs": [],
   "source": [
    "def dict4(line):\n",
    "    dict4=[]\n",
    "    dict4.append([line[-1],1])\n",
    "    return dict4\n",
    "\n",
    "RDD10=njny1.flatMap(dict4).reduceByKey(lambda a,b: a+b)\n",
    "\n",
    "#print RDD2.collect()\n",
    "RDD11=RDD10.collect()\n",
    "print RDD11"
   ]
  },
  {
   "cell_type": "code",
   "execution_count": null,
   "metadata": {},
   "outputs": [],
   "source": [
    "#Graph Co ordinates\n",
    "\n",
    "X=[]\n",
    "Y=[]\n",
    "for i in range(len(RDD11)):\n",
    "    X.append(str(RDD11[i][0]))\n",
    "for i in range(len(RDD11)):\n",
    "    Y.append(RDD11[i][1])\n",
    "    X=sorted(X)\n",
    "    Y=sorted(Y)\n",
    "print X, Y"
   ]
  },
  {
   "cell_type": "code",
   "execution_count": null,
   "metadata": {},
   "outputs": [],
   "source": [
    "from  matplotlib import pyplot as plt\n",
    "plt.xlabel(\"Pickup_Hours\")\n",
    "plt.ylabel(\"Ride_Count\")\n",
    "plt.title(\"NJ-NY Transit\")\n",
    "plt.grid(True)\n",
    "plt.bar(X,Y)\n",
    "plt.show()"
   ]
  },
  {
   "cell_type": "code",
   "execution_count": 160,
   "metadata": {},
   "outputs": [
    {
     "data": {
      "text/plain": [
       "Text(0,0.5,'Frequency')"
      ]
     },
     "execution_count": 160,
     "metadata": {},
     "output_type": "execute_result"
    },
    {
     "data": {
      "image/png": "[encoded data removed]",
      "text/plain": [
       "<Figure size 432x288 with 1 Axes>"
      ]
     },
     "metadata": {},
     "output_type": "display_data"
    }
   ],
   "source": [
    "#Histogram of Store_and_fwd_Flag\n",
    "import matplotlib.pyplot as plt\n",
    "\n",
    "strfwd = rDD.map(lambda x:x[3]).collect()\n",
    "\n",
    "plt.hist(strfwd, bins = 2)\n",
    "plt.title('Store & Forward Flag')\n",
    "plt.xlabel('Flag')\n",
    "plt.axis('auto')\n",
    "plt.ylabel('Frequency')"
   ]
  },
  {
   "cell_type": "code",
   "execution_count": 13,
   "metadata": {},
   "outputs": [
    {
     "name": "stdout",
     "output_type": "stream",
     "text": [
      "[(u'N', 1487192), (u'Y', 8734)]\n"
     ]
    }
   ],
   "source": [
    "#[total trips]\n",
    "strfwd1 = rDD.map(lambda x:(x[3],1)).reduceByKey(lambda a,b: a+b)\n",
    "print strfwd1.collect()"
   ]
  },
  {
   "cell_type": "code",
   "execution_count": 14,
   "metadata": {},
   "outputs": [
    {
     "name": "stdout",
     "output_type": "stream",
     "text": [
      "[(u'N', 860427), (u'Y', 4815)]\n"
     ]
    }
   ],
   "source": [
    "strfwdnyny = nyny.map(lambda x:(x[3],1)).reduceByKey(lambda a,b: a+b)\n",
    "print strfwdnyny.collect()"
   ]
  },
  {
   "cell_type": "code",
   "execution_count": 15,
   "metadata": {},
   "outputs": [
    {
     "name": "stdout",
     "output_type": "stream",
     "text": [
      "[(u'N', 446547), (u'Y', 2770)]\n"
     ]
    }
   ],
   "source": [
    "strfwdnjnj = njnj.map(lambda x:(x[3],1)).reduceByKey(lambda a,b: a+b)\n",
    "print strfwdnjnj.collect()"
   ]
  },
  {
   "cell_type": "code",
   "execution_count": 16,
   "metadata": {},
   "outputs": [
    {
     "name": "stdout",
     "output_type": "stream",
     "text": [
      "[(u'N', 36770), (u'Y', 379)]\n"
     ]
    }
   ],
   "source": [
    "strfwdnjny = njny.map(lambda x:(x[3],1)).reduceByKey(lambda a,b: a+b)\n",
    "print strfwdnjny.collect()"
   ]
  },
  {
   "cell_type": "code",
   "execution_count": 17,
   "metadata": {},
   "outputs": [
    {
     "name": "stdout",
     "output_type": "stream",
     "text": [
      "[(u'N', 143448), (u'Y', 770)]\n"
     ]
    }
   ],
   "source": [
    "strfwdnynj = nynj.map(lambda x:(x[3],1)).reduceByKey(lambda a,b: a+b)\n",
    "print strfwdnynj.collect()"
   ]
  },
  {
   "cell_type": "code",
   "execution_count": 163,
   "metadata": {},
   "outputs": [
    {
     "name": "stdout",
     "output_type": "stream",
     "text": [
      "Total Trips Count: 1495926\n",
      "Sum of Tip amount of all trips: 1848358.56\n",
      "Average tip amount for total_trips: 1.23559491579\n",
      "Average tip amount by trip Category:\n",
      " nyny = 1.08615938662 \n",
      " njnj = 0.932354506952 \n",
      " njny = 2.38792618913 \n",
      " nynj = 2.78006933947\n"
     ]
    }
   ],
   "source": [
    "# Task 1.2: Avg tip amount for different trip categories\n",
    "total_trips = rDD.count()\n",
    "print 'Total Trips Count:',total_trips\n",
    "sumOfTips_AllTrip = rDD.map(lambda z:float(z[14])).reduce(lambda a,b: a+b)\n",
    "print 'Sum of Tip amount of all trips:',sumOfTips_AllTrip\n",
    "print 'Average tip amount for total_trips:',(sumOfTips_AllTrip/total_trips)\n",
    "sumOfTips_nyny = nyny.map(lambda z:float(z[14])).reduce(lambda a,b: a+b)\n",
    "sumOfTips_njnj = njnj.map(lambda z:float(z[14])).reduce(lambda a,b: a+b)\n",
    "sumOfTips_njny = njny.map(lambda z:float(z[14])).reduce(lambda a,b: a+b)\n",
    "sumOfTips_nynj = nynj.map(lambda z:float(z[14])).reduce(lambda a,b: a+b)\n",
    "print 'Average tip amount by trip Category:\\n nyny =',(sumOfTips_nyny/nynyTrips),'\\n njnj =',(sumOfTips_njnj/njnjTrips),'\\n njny =',(sumOfTips_njny/njnyTrips),'\\n nynj =',(sumOfTips_nynj/nynjTrips)"
   ]
  },
  {
   "cell_type": "code",
   "execution_count": 164,
   "metadata": {},
   "outputs": [],
   "source": [
    "#Inference for Task 1.2: Average Tip Amount is high for InterState Trips(nyny,njnj) as compared to IntraState Trips(nynj,njny)"
   ]
  },
  {
   "cell_type": "code",
   "execution_count": 169,
   "metadata": {},
   "outputs": [
    {
     "name": "stdout",
     "output_type": "stream",
     "text": [
      "[(u'5', 7.8)]\n"
     ]
    }
   ],
   "source": [
    "# Task 1.3: Average Fare Amount by RateCodeID\n",
    "avgFareByRateCodeId = rDD.map(lambda y: (y[4],float(y[11])))\n",
    "print avgFareByRateCodeId.take(1)"
   ]
  },
  {
   "cell_type": "code",
   "execution_count": 170,
   "metadata": {},
   "outputs": [
    {
     "name": "stdout",
     "output_type": "stream",
     "text": [
      "Avg Fare Amount grouped by Rate Code Id: [(u'2', 49.001126379815275), (u'4', 60.11719222462204), (u'6', 2.138888888888889), (u'1', 12.244551272229577), (u'3', 48.79856759176365), (u'5', 18.085052259679088), (u'99', 12.183333333333332)]\n"
     ]
    }
   ],
   "source": [
    "# find avg fare amount grouped by rate code id:\n",
    "import operator\n",
    "countsByKey = sc.broadcast(avgFareByRateCodeId.countByKey()) \n",
    "avgFareByRateCodeId = avgFareByRateCodeId.reduceByKey(operator.add) \n",
    "avgFareByRateCodeId = avgFareByRateCodeId.map(lambda x: (x[0], x[1]/countsByKey.value[x[0]])) \n",
    "print'Avg Fare Amount grouped by Rate Code Id:',(avgFareByRateCodeId.collect())"
   ]
  },
  {
   "cell_type": "code",
   "execution_count": 171,
   "metadata": {},
   "outputs": [
    {
     "data": {
      "image/png": "[encoded data removed]",
      "text/plain": [
       "<Figure size 432x288 with 1 Axes>"
      ]
     },
     "metadata": {},
     "output_type": "display_data"
    }
   ],
   "source": [
    "# Bar Plot for Average Fare Amount by Rate Code ID\n",
    "import numpy as np\n",
    "names = avgFareByRateCodeId.keys().collect()\n",
    "values = avgFareByRateCodeId.values().collect()\n",
    "r1 = np.arange(len(names))\n",
    "\n",
    "plt.bar(r1, values, width=0.25, edgecolor='white', label='comp1')\n",
    "plt.xlabel('Rate Code ID', fontweight='bold')\n",
    "plt.ylabel('Average Fare Rate', fontweight='bold')\n",
    "plt.xticks([r for r in range(len(names))], names)\n",
    "plt.show()\n"
   ]
  },
  {
   "cell_type": "code",
   "execution_count": 172,
   "metadata": {},
   "outputs": [],
   "source": [
    "#Inference for Task 1.3: Average Fare Amount for RateCode ID 2(JFK),3(Newark),4(Nassau or Westchester) is way more then other RateCode ID consisting of Standard rate, Negotiated fare, Group Ride."
   ]
  },
  {
   "cell_type": "code",
   "execution_count": 180,
   "metadata": {},
   "outputs": [],
   "source": [
    "# Task 1.4: Airport Statistics (RateCodeId : 2(JFK Airport), 3(EWR Airport))\n",
    "     # Task 1.4.1: Number of rides per airport\n",
    "     # Task 1.4.2: Footfall - jfk & newark - (number of passengers)\n",
    "     # Task 1.4.3: Footfall - jfk & newark -  (Avg passenger count)\n",
    "    # Task 1.4.4:  jfk & newark -  'passenger count' frequency by airport (trip counts for no. of passengers (eg. 1 passenger rides, 2 passenger rides)"
   ]
  },
  {
   "cell_type": "code",
   "execution_count": 181,
   "metadata": {},
   "outputs": [
    {
     "name": "stdout",
     "output_type": "stream",
     "text": [
      "Rides to Airport: 5556\n",
      "Rides to JFK: 4439\n",
      "Rides to newark: 1117\n"
     ]
    }
   ],
   "source": [
    "# Task 1.4.1: Number of rides per airport\n",
    "airport = rDD.filter(lambda x: x[4]=='2'or x[4]=='3')\n",
    "RideAirport = airport.count()\n",
    "print 'Rides to Airport:',RideAirport\n",
    "jfk = rDD.filter(lambda x: x[4]=='2')\n",
    "RideJfk = jfk.count()\n",
    "print 'Rides to JFK:',RideJfk\n",
    "newark = rDD.filter(lambda x: x[4]=='3')\n",
    "RideNewark = newark.count()\n",
    "print 'Rides to newark:',RideNewark"
   ]
  },
  {
   "cell_type": "code",
   "execution_count": 182,
   "metadata": {},
   "outputs": [
    {
     "name": "stdout",
     "output_type": "stream",
     "text": [
      "Total Passengers travelled to Airport: 7503\n",
      "Passengers travelled to JFK: 5943\n",
      "Passengers travelled to Newark: 1560\n"
     ]
    }
   ],
   "source": [
    "# Task 1.4.2: Footfall - jfk & newark - (number of passengers)\n",
    "countPassengerAirport = airport.map(lambda x: int(x[9])).reduce(lambda a,b: a+b)\n",
    "print 'Total Passengers travelled to Airport:',countPassengerAirport\n",
    "countPassengerJFK = jfk.map(lambda x: int(x[9])).reduce(lambda a,b: a+b)\n",
    "print 'Passengers travelled to JFK:',countPassengerJFK\n",
    "countPassengerNewark = newark.map(lambda x: int(x[9])).reduce(lambda a,b: a+b)\n",
    "print 'Passengers travelled to Newark:',countPassengerNewark"
   ]
  },
  {
   "cell_type": "code",
   "execution_count": 183,
   "metadata": {},
   "outputs": [
    {
     "name": "stdout",
     "output_type": "stream",
     "text": [
      "Average No. of Passengers travelled to Airport: 1.35043196544\n",
      "Average No. of Passengers travelled to JFK Airport: 1.33881504843\n",
      "Average No. of Passengers travelled to Newark(EWR): 1.39659803044\n"
     ]
    }
   ],
   "source": [
    " # Task 1.4.3: Footfall - jfk & newark -  (Avg passenger count)\n",
    "AvgPassengerAirport = (countPassengerAirport*1.0)/(RideAirport)\n",
    "print 'Average No. of Passengers travelled to Airport:',AvgPassengerAirport\n",
    "AvgPassengerJFK = (countPassengerJFK*1.0)/(RideJfk)\n",
    "print 'Average No. of Passengers travelled to JFK Airport:',AvgPassengerJFK\n",
    "AvgPassengerNewark = (countPassengerNewark*1.0)/(RideNewark)\n",
    "print 'Average No. of Passengers travelled to Newark(EWR):',AvgPassengerNewark\n"
   ]
  },
  {
   "cell_type": "code",
   "execution_count": 184,
   "metadata": {},
   "outputs": [
    {
     "name": "stdout",
     "output_type": "stream",
     "text": [
      "Trip Counts by Number of Passengers by JFK Airport {u'1': 3692, u'0': 1, u'3': 78, u'2': 452, u'5': 145, u'4': 19, u'6': 52}\n",
      "Trip Counts by Number of Passengers by EWR Airport {u'1': 902, u'0': 3, u'3': 26, u'2': 119, u'5': 50, u'4': 5, u'6': 12}\n"
     ]
    }
   ],
   "source": [
    " # Task 1.4.4:  jfk & newark -  'passenger count' frequency by airport (trip counts for no. of passengers (eg. 1 passenger rides, 2 passenger rides))\n",
    "countPassengerJFK1 = dict(jfk.map(lambda x: x[9]).countByValue())\n",
    "print 'Trip Counts by Number of Passengers by JFK Airport',countPassengerJFK1\n",
    "countPassengerNewark1 = dict(newark.map(lambda x: x[9]).countByValue())\n",
    "print 'Trip Counts by Number of Passengers by EWR Airport',countPassengerNewark1"
   ]
  },
  {
   "cell_type": "code",
   "execution_count": 185,
   "metadata": {},
   "outputs": [
    {
     "data": {
      "image/png": "[encoded data removed]",
      "text/plain": [
       "<Figure size 432x288 with 1 Axes>"
      ]
     },
     "metadata": {},
     "output_type": "display_data"
    }
   ],
   "source": [
    "# Histogram of Trip Counts by Number of Passengers by JFK Airport\n",
    "plt.bar(range(len(countPassengerJFK1)), countPassengerJFK1.values(), align='center')\n",
    "plt.xticks(range(len(countPassengerJFK1)), list(countPassengerJFK1.keys()))\n",
    "\n",
    "plt.show()\n"
   ]
  },
  {
   "cell_type": "code",
   "execution_count": 186,
   "metadata": {},
   "outputs": [
    {
     "data": {
      "image/png": "[encoded data removed]",
      "text/plain": [
       "<Figure size 432x288 with 1 Axes>"
      ]
     },
     "metadata": {},
     "output_type": "display_data"
    }
   ],
   "source": [
    "# Histogram of Trip Counts by Number of Passengers by EWR Airport\n",
    "plt.bar(range(len(countPassengerNewark1)), countPassengerNewark1.values(), align='center')\n",
    "plt.xticks(range(len(countPassengerNewark1)), list(countPassengerNewark1.keys()))\n",
    "\n",
    "plt.show()\n"
   ]
  },
  {
   "cell_type": "code",
   "execution_count": 198,
   "metadata": {},
   "outputs": [
    {
     "data": {
      "image/png": "[encoded data removed]",
      "text/plain": [
       "<Figure size 432x288 with 1 Axes>"
      ]
     },
     "metadata": {},
     "output_type": "display_data"
    }
   ],
   "source": [
    "# Histogram Of Comparison for Trip Counts by Number of Passengers by both Airport\n",
    "\n",
    "jfk = countPassengerJFK1.keys()\n",
    "comp1Val = countPassengerJFK1.values()\n",
    "ewr = countPassengerNewark1.keys()\n",
    "comp2Val = countPassengerNewark1.values()\n",
    "r1 = np.arange(len(jfk))\n",
    "r2 = [x + 0.25 for x in r1]\n",
    "\n",
    "plt.bar(r1, comp1Val, color='#7f6d5f', width=0.25, edgecolor='white', label='jfk')\n",
    "plt.bar(r2, comp2Val, color='#557f2d', width=0.25, edgecolor='white', label='ewr')\n",
    "plt.ylabel('Ride Frequency', fontweight='bold')\n",
    "plt.xlabel('No. of Passengers', fontweight='bold')\n",
    "plt.xticks([r + 0.25 for r in range(len(jfk))], jfk)\n",
    "\n",
    "plt.legend()\n",
    "plt.show()\n"
   ]
  },
  {
   "cell_type": "code",
   "execution_count": 189,
   "metadata": {},
   "outputs": [],
   "source": [
    "#Inference for Task 1.4: \n",
    "  #1.Help green nyc taxi service to gain insights whethr to opt for pooled cabs at the specific time per days\n",
    "  #2. From No. of Trips statistics as well as No. of Passenger Count Statistics, We can conclude that JFK Airport is more busy compared to EWR(Newark) Airport"
   ]
  },
  {
   "cell_type": "code",
   "execution_count": 190,
   "metadata": {},
   "outputs": [],
   "source": [
    "# Task 1.5: Mean Distance traveled in the hour of the day"
   ]
  },
  {
   "cell_type": "code",
   "execution_count": 191,
   "metadata": {},
   "outputs": [],
   "source": [
    "#Convert the Time-stamp\n",
    "from datetime import datetime\n",
    "def timestamp(time):\n",
    "   \n",
    "    \n",
    "    date=time[1].split(\" \")\n",
    "    time.insert(len(time),datetime.strptime(date[0], '%Y-%m-%d').date())\n",
    "    time.insert(len(time),datetime.strptime(date[1], '%H:%M:%S').strftime(\"%H\"))\n",
    "    time.remove((time)[1])\n",
    "   \n",
    "    date=time[1].split(\" \")\n",
    "    time.insert(len(time),datetime.strptime(date[0], '%Y-%m-%d').date())\n",
    "    time.insert(len(time),datetime.strptime(date[1], '%H:%M:%S').strftime(\"%H\"))#Extracting only hours\n",
    "    time.remove((time)[1])\n",
    "   \n",
    "    return time"
   ]
  },
  {
   "cell_type": "code",
   "execution_count": 192,
   "metadata": {},
   "outputs": [
    {
     "name": "stdout",
     "output_type": "stream",
     "text": [
      "[[u'2', u'N', u'5', u'-73.979484558105469', u'40.684955596923828', u'-73.97943115234375', u'40.685020446777344', u'1', u'.00', u'7.8', u'0', u'0', u'1.95', u'0', u'', u'0', u'9.75', u'1', u'2', datetime.date(2015, 9, 1), '00', datetime.date(2015, 9, 1), '00']]\n",
      "00\n"
     ]
    }
   ],
   "source": [
    "pairedRDD1=rDD.map(timestamp)\n",
    "print pairedRDD1.take(1)\n",
    "print pairedRDD1.take(1)[0][-1]"
   ]
  },
  {
   "cell_type": "code",
   "execution_count": 193,
   "metadata": {},
   "outputs": [],
   "source": [
    "# hour of day: no of trips"
   ]
  },
  {
   "cell_type": "code",
   "execution_count": 194,
   "metadata": {},
   "outputs": [],
   "source": [
    "# mean distance by hour of day \n",
    "tripInHr = pairedRDD1.map(lambda x:(x[20],float(x[8])))\n"
   ]
  },
  {
   "cell_type": "code",
   "execution_count": 195,
   "metadata": {},
   "outputs": [
    {
     "name": "stdout",
     "output_type": "stream",
     "text": [
      "[('00', 0.0)]\n"
     ]
    }
   ],
   "source": [
    "print tripInHr.take(1)"
   ]
  },
  {
   "cell_type": "code",
   "execution_count": 196,
   "metadata": {},
   "outputs": [
    {
     "name": "stdout",
     "output_type": "stream",
     "text": [
      "Mean Distance by hour of day: [('00', 3.1154128642272356), ('01', 3.0173471816710977), ('02', 3.0461755995727717), ('03', 3.21294532237674), ('04', 3.5265550257341807), ('05', 4.133474251497005), ('06', 4.055148894869198), ('07', 3.284394444709132), ('08', 3.0484495887390874), ('09', 2.9991052283682906), ('10', 2.9444823205958093), ('11', 2.9120154601961583), ('12', 2.9030647783080843), ('13', 2.8782944482140675), ('14', 2.8643042721708944), ('15', 2.857039998915654), ('16', 2.779851560822164), ('17', 2.6791138578991593), ('18', 2.6532220679726484), ('19', 2.7155968837436655), ('20', 2.7770517155917838), ('21', 2.999188611441709), ('22', 3.1853935422938484), ('23', 3.1915379409737445)]\n"
     ]
    }
   ],
   "source": [
    "countsKey = sc.broadcast(tripInHr.countByKey()) \n",
    "tripInHr = tripInHr.reduceByKey(operator.add)\n",
    "tripInHr = tripInHr.map(lambda x: (x[0], x[1]/countsKey.value[x[0]]))\n",
    "tripInHr1 = tripInHr.sortByKey().collect()\n",
    "print 'Mean Distance by hour of day:',tripInHr1"
   ]
  },
  {
   "cell_type": "code",
   "execution_count": 197,
   "metadata": {},
   "outputs": [
    {
     "data": {
      "image/png": "[encoded data removed]",
      "text/plain": [
       "<Figure size 432x288 with 1 Axes>"
      ]
     },
     "metadata": {},
     "output_type": "display_data"
    }
   ],
   "source": [
    "# Line Graph of Mean Distance Travelled by Hour of Day\n",
    "import numpy as np\n",
    "names = sorted(tripInHr.keys().collect())\n",
    "values = tripInHr.sortByKey().values().collect()\n",
    "r1 = np.arange(len(names))\n",
    "plt.grid(True)\n",
    "plt.plot(r1, values)\n",
    "plt.xlabel('Hour Of Day', fontweight='bold')\n",
    "plt.ylabel('Mean Distance Travelled', fontweight='bold')\n",
    "plt.xticks([r for r in range(len(names))], names)\n",
    "plt.show()"
   ]
  },
  {
   "cell_type": "code",
   "execution_count": 199,
   "metadata": {},
   "outputs": [],
   "source": [
    "#Inference for Task 1.5:\n",
    "    # Mean Distance Travelld is maximum during 5th hour of the day (i.e. 5am in the morning) and in general it is considerably high between 3am to 7am."
   ]
  },
  {
   "cell_type": "code",
   "execution_count": 200,
   "metadata": {},
   "outputs": [],
   "source": [
    "# Task 1.6: ny to ny trips: count of uptown to downtown & downtown to uptown trips"
   ]
  },
  {
   "cell_type": "code",
   "execution_count": 202,
   "metadata": {},
   "outputs": [
    {
     "name": "stdout",
     "output_type": "stream",
     "text": [
      "Trips from Downtown to Uptown: 466550\n",
      "Trips from Uptown to Downtown: 398692\n",
      "Total Ny to Ny Trips: 865242\n",
      "verify: 865242\n"
     ]
    }
   ],
   "source": [
    "nynycnt = nyny.collect()\n",
    "uptown_to_downtown = 0\n",
    "downtown_to_uptown = 0\n",
    "for i in nynycnt:\n",
    "    if i[6]> i[8]:\n",
    "        downtown_to_uptown+=1\n",
    "    else:\n",
    "        uptown_to_downtown+=1\n",
    "print 'Trips from Downtown to Uptown:',downtown_to_uptown\n",
    "print 'Trips from Uptown to Downtown:',uptown_to_downtown\n",
    "print 'Total Ny to Ny Trips:',nyny.count()\n",
    "print 'verify:',downtown_to_uptown+uptown_to_downtown\n",
    "   \n",
    "    "
   ]
  },
  {
   "cell_type": "code",
   "execution_count": 45,
   "metadata": {},
   "outputs": [],
   "source": [
    "#Task 1.7: total distance travelled in days of september: all trips and all bucket trips\n",
    "    #inference: Total distance travelled is minimal on Mondays, Tuesdays of all weeks in the month of september (all trips as well as individual buckets)"
   ]
  },
  {
   "cell_type": "code",
   "execution_count": 206,
   "metadata": {},
   "outputs": [
    {
     "name": "stdout",
     "output_type": "stream",
     "text": [
      "total distance travelled in days of september (all trips): [(u'01', 122513.24999999993), (u'02', 128236.22999999965), (u'03', 140418.9299999988), (u'04', 162975.13000000006), (u'05', 186512.51000000018), (u'06', 168985.69999999864), (u'07', 134456.8799999998), (u'08', 124812.82999999952), (u'09', 134650.96999999994), (u'10', 144659.98999999947), (u'11', 165757.7800000004), (u'12', 205720.95000000234), (u'13', 175904.92999999988), (u'14', 116218.49999999999), (u'15', 117496.27999999956), (u'16', 134455.64999999924), (u'17', 142427.31999999986), (u'18', 166443.4400000004), (u'19', 213864.6999999988), (u'20', 182536.83999999915), (u'21', 124354.28000000044), (u'22', 114081.68000000092), (u'23', 118218.85999999953), (u'24', 116158.59999999996), (u'25', 152454.59000000055), (u'26', 200601.51999999987), (u'27', 174211.140000002), (u'28', 120490.66000000031), (u'29', 121887.67000000094), (u'30', 128767.71999999991)]\n"
     ]
    }
   ],
   "source": [
    "dateRDD1 = rDD.map(lambda x: (x[1].split(\" \"),x[10])).map(lambda y: (y[0][0].split(\"-\")[2],float(y[1]))).reduceByKey(lambda a,b: a+b)\n",
    "print 'total distance travelled in days of september (all trips):',dateRDD1.sortByKey().collect()"
   ]
  },
  {
   "cell_type": "code",
   "execution_count": 207,
   "metadata": {},
   "outputs": [
    {
     "data": {
      "image/png": "[encoded data removed]",
      "text/plain": [
       "<Figure size 432x288 with 1 Axes>"
      ]
     },
     "metadata": {},
     "output_type": "display_data"
    }
   ],
   "source": [
    "#total distance travelled in days of september (all trips)\n",
    "names = sorted(dateRDD1.keys().collect())\n",
    "values = dateRDD1.sortByKey().values().collect()\n",
    "r1 = np.arange(len(names))\n",
    "plt.grid(True)\n",
    "plt.plot(r1, values)\n",
    "plt.xlabel('Day of September 2015', fontweight='bold')\n",
    "plt.ylabel('Total Distance Travelled', fontweight='bold')\n",
    "plt.xticks([r for r in range(len(names))], names)\n",
    "plt.show()"
   ]
  },
  {
   "cell_type": "code",
   "execution_count": 48,
   "metadata": {},
   "outputs": [],
   "source": [
    "#inference: Total distance travelled is minimal on Mondays, Tuesdays of all weeks in the month of september (all trips)"
   ]
  },
  {
   "cell_type": "code",
   "execution_count": 208,
   "metadata": {},
   "outputs": [
    {
     "name": "stdout",
     "output_type": "stream",
     "text": [
      "total distance travelled in days of september (nyny trips) [(u'01', 59384.189999999915), (u'02', 63134.670000000006), (u'03', 71627.36000000018), (u'04', 84454.46000000027), (u'05', 99688.09999999973), (u'06', 92341.45000000093), (u'07', 74581.44999999946), (u'08', 60651.36000000013), (u'09', 64921.790000000095), (u'10', 73288.76000000034), (u'11', 86231.12000000014), (u'12', 108519.18999999983), (u'13', 95002.41999999934), (u'14', 56934.259999999864), (u'15', 57316.740000000165), (u'16', 66917.85000000018), (u'17', 72126.53000000012), (u'18', 87456.54999999965), (u'19', 113154.1100000009), (u'20', 98370.75999999994), (u'21', 61541.20999999984), (u'22', 56024.290000000205), (u'23', 59227.060000000245), (u'24', 58524.219999999994), (u'25', 82739.7500000002), (u'26', 106634.98999999993), (u'27', 94641.68000000081), (u'28', 58856.90000000028), (u'29', 58604.57999999999), (u'30', 63507.44000000006)]\n"
     ]
    }
   ],
   "source": [
    "dateRDD2 = nyny.map(lambda x: (x[1].split(\" \"),x[10])).map(lambda y: (y[0][0].split(\"-\")[2],float(y[1]))).reduceByKey(lambda a,b: a+b)\n",
    "print 'total distance travelled in days of september (nyny trips)',dateRDD2.sortByKey().collect()"
   ]
  },
  {
   "cell_type": "code",
   "execution_count": 209,
   "metadata": {},
   "outputs": [
    {
     "data": {
      "image/png": "[encoded data removed]",
      "text/plain": [
       "<Figure size 432x288 with 1 Axes>"
      ]
     },
     "metadata": {},
     "output_type": "display_data"
    }
   ],
   "source": [
    "#total distance travelled in days of september (nyny trips)\n",
    "names = sorted(dateRDD2.keys().collect())\n",
    "values = dateRDD2.sortByKey().values().collect()\n",
    "r1 = np.arange(len(names))\n",
    "plt.grid(True)\n",
    "plt.plot(r1, values)\n",
    "plt.xlabel('Day of September 2015', fontweight='bold')\n",
    "plt.ylabel('Total Distance Travelled', fontweight='bold')\n",
    "plt.xticks([r for r in range(len(names))], names)\n",
    "plt.show()"
   ]
  },
  {
   "cell_type": "code",
   "execution_count": 51,
   "metadata": {},
   "outputs": [],
   "source": [
    "#inference: Total distance travelled is minimal on Mondays, Tuesdays of all weeks in the month of september (nyny)"
   ]
  },
  {
   "cell_type": "code",
   "execution_count": 213,
   "metadata": {},
   "outputs": [
    {
     "name": "stdout",
     "output_type": "stream",
     "text": [
      "total distance travelled in days of september (njnj trips): [(u'01', 31394.879999999837), (u'02', 31384.479999999985), (u'03', 33963.95999999999), (u'04', 38198.729999999916), (u'05', 35954.28999999999), (u'06', 32685.11000000003), (u'07', 25629.3099999999), (u'08', 32023.00999999994), (u'09', 34356.12999999994), (u'10', 36786.940000000264), (u'11', 38174.91999999991), (u'12', 41158.31999999986), (u'13', 33036.33999999996), (u'14', 29137.36999999987), (u'15', 30933.10999999999), (u'16', 34025.4200000001), (u'17', 35232.49), (u'18', 38150.24000000017), (u'19', 47076.129999999655), (u'20', 35053.65999999995), (u'21', 32307.77000000007), (u'22', 30698.57999999998), (u'23', 30439.440000000042), (u'24', 31978.680000000182), (u'25', 36896.09000000014), (u'26', 42113.44000000003), (u'27', 34052.70999999987), (u'28', 32618.169999999893), (u'29', 33757.93000000016), (u'30', 34691.11)]\n"
     ]
    }
   ],
   "source": [
    "dateRDD3 = njnj.map(lambda x: (x[1].split(\" \"),x[10])).map(lambda y: (y[0][0].split(\"-\")[2],float(y[1]))).reduceByKey(lambda a,b: a+b)\n",
    "print 'total distance travelled in days of september (njnj trips):',dateRDD3.sortByKey().collect()"
   ]
  },
  {
   "cell_type": "code",
   "execution_count": 214,
   "metadata": {},
   "outputs": [
    {
     "data": {
      "image/png": "[encoded data removed]",
      "text/plain": [
       "<Figure size 432x288 with 1 Axes>"
      ]
     },
     "metadata": {},
     "output_type": "display_data"
    }
   ],
   "source": [
    "#total distance travelled in days of september (njnj trips)\n",
    "names = sorted(dateRDD3.keys().collect())\n",
    "values = dateRDD3.sortByKey().values().collect()\n",
    "r1 = np.arange(len(names))\n",
    "plt.grid(True)\n",
    "plt.plot(r1, values)\n",
    "plt.xlabel('Day of September 2015', fontweight='bold')\n",
    "plt.ylabel('Total Distance Travelled', fontweight='bold')\n",
    "plt.xticks([r for r in range(len(names))], names)\n",
    "plt.show()"
   ]
  },
  {
   "cell_type": "code",
   "execution_count": 215,
   "metadata": {},
   "outputs": [
    {
     "name": "stdout",
     "output_type": "stream",
     "text": [
      "total distance travelled in days of september (njny trips): [(u'01', 7773.679999999996), (u'02', 8921.919999999991), (u'03', 9586.96000000001), (u'04', 12227.929999999988), (u'05', 12401.509999999987), (u'06', 10181.630000000012), (u'07', 8020.380000000005), (u'08', 8106.539999999998), (u'09', 8376.9), (u'10', 9209.529999999995), (u'11', 11303.039999999995), (u'12', 12202.079999999993), (u'13', 9717.800000000003), (u'14', 7946.270000000006), (u'15', 7256.529999999995), (u'16', 8506.82), (u'17', 9454.210000000017), (u'18', 11371.220000000005), (u'19', 11195.419999999984), (u'20', 10167.140000000005), (u'21', 8200.630000000005), (u'22', 7086.990000000007), (u'23', 7536.890000000005), (u'24', 9256.910000000003), (u'25', 10540.84), (u'26', 11255.609999999997), (u'27', 11065.419999999995), (u'28', 8750.480000000003), (u'29', 8728.369999999984), (u'30', 9163.859999999999)]\n"
     ]
    }
   ],
   "source": [
    "dateRDD4 = njny.map(lambda x: (x[1].split(\" \"),x[10])).map(lambda y: (y[0][0].split(\"-\")[2],float(y[1]))).reduceByKey(lambda a,b: a+b)\n",
    "print 'total distance travelled in days of september (njny trips):',dateRDD4.sortByKey().collect()"
   ]
  },
  {
   "cell_type": "code",
   "execution_count": 216,
   "metadata": {},
   "outputs": [
    {
     "data": {
      "image/png": "[encoded data removed]",
      "text/plain": [
       "<Figure size 432x288 with 1 Axes>"
      ]
     },
     "metadata": {},
     "output_type": "display_data"
    }
   ],
   "source": [
    "#total distance travelled in days of september (njny trips)\n",
    "names = sorted(dateRDD4.keys().collect())\n",
    "values = dateRDD4.sortByKey().values().collect()\n",
    "r1 = np.arange(len(names))\n",
    "plt.grid(True)\n",
    "plt.plot(r1, values)\n",
    "plt.xlabel('Day of September 2015', fontweight='bold')\n",
    "plt.ylabel('Total Distance Travelled', fontweight='bold')\n",
    "plt.xticks([r for r in range(len(names))], names)\n",
    "plt.show()"
   ]
  },
  {
   "cell_type": "code",
   "execution_count": 217,
   "metadata": {},
   "outputs": [
    {
     "name": "stdout",
     "output_type": "stream",
     "text": [
      "total distance travelled in days of september (nynj trips): [(u'01', 23960.50000000007), (u'02', 24795.160000000036), (u'03', 25240.65), (u'04', 28094.01), (u'05', 38468.609999999986), (u'06', 33777.50999999996), (u'07', 26225.73999999996), (u'08', 24031.91999999998), (u'09', 26996.14999999999), (u'10', 25374.75999999992), (u'11', 30048.69999999998), (u'12', 43841.359999999964), (u'13', 38148.36999999995), (u'14', 22200.599999999937), (u'15', 21989.900000000016), (u'16', 25005.559999999998), (u'17', 25614.08999999996), (u'18', 29465.43000000003), (u'19', 42439.039999999964), (u'20', 38945.28000000008), (u'21', 22304.66999999999), (u'22', 20271.81999999999), (u'23', 21015.470000000005), (u'24', 16398.78999999998), (u'25', 22277.91000000001), (u'26', 40597.48000000011), (u'27', 34451.32999999989), (u'28', 20265.110000000015), (u'29', 20796.789999999954), (u'30', 21405.310000000012)]\n"
     ]
    }
   ],
   "source": [
    "dateRDD5 = nynj.map(lambda x: (x[1].split(\" \"),x[10])).map(lambda y: (y[0][0].split(\"-\")[2],float(y[1]))).reduceByKey(lambda a,b: a+b)\n",
    "print 'total distance travelled in days of september (nynj trips):',dateRDD5.sortByKey().collect()"
   ]
  },
  {
   "cell_type": "code",
   "execution_count": 218,
   "metadata": {},
   "outputs": [
    {
     "data": {
      "image/png": "[encoded data removed]",
      "text/plain": [
       "<Figure size 432x288 with 1 Axes>"
      ]
     },
     "metadata": {},
     "output_type": "display_data"
    }
   ],
   "source": [
    "#total distance travelled in days of september (nynj trips)\n",
    "names = sorted(dateRDD5.keys().collect())\n",
    "values = dateRDD5.sortByKey().values().collect()\n",
    "r1 = np.arange(len(names))\n",
    "plt.grid(True)\n",
    "plt.plot(r1, values)\n",
    "plt.xlabel('Day of September 2015', fontweight='bold')\n",
    "plt.ylabel('Total Distance Travelled', fontweight='bold')\n",
    "plt.xticks([r for r in range(len(names))], names)\n",
    "plt.show()"
   ]
  },
  {
   "cell_type": "code",
   "execution_count": null,
   "metadata": {},
   "outputs": [],
   "source": [
    "#inference for task 1.7: Total distance travelled is minimal on Mondays, Tuesdays of all weeks in the month of september (all trips)"
   ]
  },
  {
   "cell_type": "code",
   "execution_count": 219,
   "metadata": {},
   "outputs": [],
   "source": [
    "# Task 1.8: hour of day vs avg Total Fare amount"
   ]
  },
  {
   "cell_type": "code",
   "execution_count": 224,
   "metadata": {},
   "outputs": [],
   "source": [
    "revenueavg=rDD.map(timestamp)"
   ]
  },
  {
   "cell_type": "code",
   "execution_count": 225,
   "metadata": {},
   "outputs": [],
   "source": [
    "avgrev = revenueavg.map(lambda x:(x[20],float(x[16])))"
   ]
  },
  {
   "cell_type": "code",
   "execution_count": 226,
   "metadata": {},
   "outputs": [
    {
     "name": "stdout",
     "output_type": "stream",
     "text": [
      "Avg Total Fare amount based on hour of the day: [('00', 15.045700724786641), ('01', 14.505001022818943), ('02', 14.482007476455049), ('03', 14.839847661189195), ('04', 15.723967983651914), ('05', 17.715533532934288), ('06', 17.470734548021902), ('07', 15.874489256278164), ('08', 15.663039090986905), ('09', 15.408813097522666), ('10', 14.897912751445302), ('11', 14.755747565636462), ('12', 14.70618990800407), ('13', 14.60671833951078), ('14', 14.732148235930065), ('15', 14.892425417135478), ('16', 15.425989868236), ('17', 15.007077435185595), ('18', 14.642485063497793), ('19', 14.55494190823746), ('20', 14.278404472103402), ('21', 14.85511780270979), ('22', 15.527859276310721), ('23', 15.471020865968356)]\n"
     ]
    }
   ],
   "source": [
    "countsKey = sc.broadcast(avgrev.countByKey()) # SAMPLE OUTPUT of countsByKey.value: {u'2013-09-09': 215, u'2013-09-08': 69, ... snip ...}\n",
    "avgrev = avgrev.reduceByKey(operator.add) # Calculate the numerators (i.e. the SUMs).\n",
    "avgrev = avgrev.map(lambda x: (x[0], x[1]/countsKey.value[x[0]])) # Divide each SUM by it's denominator (i.e. COUNT)\n",
    "avgrev1 = avgrev.sortByKey().collect()\n",
    "print 'Avg Total Fare amount based on hour of the day:', avgrev1"
   ]
  },
  {
   "cell_type": "code",
   "execution_count": 227,
   "metadata": {},
   "outputs": [
    {
     "data": {
      "image/png": "[encoded data removed]",
      "text/plain": [
       "<Figure size 432x288 with 1 Axes>"
      ]
     },
     "metadata": {},
     "output_type": "display_data"
    }
   ],
   "source": [
    "# line graph showing  Avg Total Fare amount based on hour of the day\n",
    "import numpy as np\n",
    "names = sorted(avgrev.keys().collect())\n",
    "values = avgrev.sortByKey().values().collect()\n",
    "r1 = np.arange(len(names))\n",
    "plt.grid(True)\n",
    "plt.plot(r1, values)\n",
    "plt.xlabel('Hour Of Day', fontweight='bold')\n",
    "plt.ylabel('Avg Tatal Fare', fontweight='bold')\n",
    "plt.xticks([r for r in range(len(names))], names)\n",
    "plt.show()"
   ]
  },
  {
   "cell_type": "code",
   "execution_count": null,
   "metadata": {},
   "outputs": [],
   "source": [
    "#### Input data\n",
    "sc = ss.sparkContext\n",
    "GreenTaxi = sc.textFile(\"/scratch/ISE495/taxi_data\")"
   ]
  },
  {
   "cell_type": "code",
   "execution_count": null,
   "metadata": {},
   "outputs": [],
   "source": [
    "from datetime import datetime\n",
    "from datetime import timedelta"
   ]
  },
  {
   "cell_type": "code",
   "execution_count": null,
   "metadata": {},
   "outputs": [],
   "source": [
    "import operator"
   ]
  },
  {
   "cell_type": "code",
   "execution_count": null,
   "metadata": {},
   "outputs": [],
   "source": [
    "rDD = GreenTaxi.filter(lambda x: x[0:2] != 'Ve').map(lambda x:x.split(\",\"))\n",
    "nyny1 = rDD.filter(lambda y: (float(y[6])<(1.323942*float(y[5]) + 138.669195)) &(float(y[8])<(1.323942*float(y[7]) + 138.669195))).map(lambda y: [y[0],(datetime.strptime(y[1], \"%Y-%m-%d %H:%M:%S\")),(datetime.strptime(y[2], \"%Y-%m-%d %H:%M:%S\")),y[3],y[4],y[5],y[6],y[7],y[8],y[9],y[10],y[11],y[12],y[13],y[14],y[15],y[16],y[17],y[18],y[19],y[20],(datetime.strptime(y[1].split(\" \")[0], \"%Y-%m-%d\").date()),(datetime.strptime(y[1].split(\" \")[1], \"%H:%M:%S\").time()),(datetime.strptime(y[1].split(\" \")[1], \"%H:%M:%S\").strftime(\"%H\"))  ])\n",
    "njnj1 = rDD.filter(lambda y: (float(y[6])>(1.323942*float(y[5]) + 138.669195)) &(float(y[8])>(1.323942*float(y[7]) + 138.669195))).map(lambda y: [y[0],(datetime.strptime(y[1], \"%Y-%m-%d %H:%M:%S\")),(datetime.strptime(y[2], \"%Y-%m-%d %H:%M:%S\")),y[3],y[4],y[5],y[6],y[7],y[8],y[9],y[10],y[11],y[12],y[13],y[14],y[15],y[16],y[17],y[18],y[19],y[20],(datetime.strptime(y[1].split(\" \")[0], \"%Y-%m-%d\").date()),(datetime.strptime(y[1].split(\" \")[1], \"%H:%M:%S\").time()), (datetime.strptime(y[1].split(\" \")[1], \"%H:%M:%S\").strftime(\"%H\")) ])\n",
    "nynj1 = rDD.filter(lambda y: (float(y[6])<(1.323942*float(y[5]) + 138.669195)) &(float(y[8])>(1.323942*float(y[7]) + 138.669195))).map(lambda y: [y[0],(datetime.strptime(y[1], \"%Y-%m-%d %H:%M:%S\")),(datetime.strptime(y[2], \"%Y-%m-%d %H:%M:%S\")),y[3],y[4],y[5],y[6],y[7],y[8],y[9],y[10],y[11],y[12],y[13],y[14],y[15],y[16],y[17],y[18],y[19],y[20],(datetime.strptime(y[1].split(\" \")[0], \"%Y-%m-%d\").date()),(datetime.strptime(y[1].split(\" \")[1], \"%H:%M:%S\").time()), (datetime.strptime(y[1].split(\" \")[1], \"%H:%M:%S\").strftime(\"%H\")) ])\n",
    "njny1 = rDD.filter(lambda y: (float(y[6])>(1.323942*float(y[5]) + 138.669195)) &(float(y[8])<(1.323942*float(y[7]) + 138.669195))).map(lambda y: [y[0],(datetime.strptime(y[1], \"%Y-%m-%d %H:%M:%S\")),(datetime.strptime(y[2], \"%Y-%m-%d %H:%M:%S\")),y[3],y[4],y[5],y[6],y[7],y[8],y[9],y[10],y[11],y[12],y[13],y[14],y[15],y[16],y[17],y[18],y[19],y[20],(datetime.strptime(y[1].split(\" \")[0], \"%Y-%m-%d\").date()),(datetime.strptime(y[1].split(\" \")[1], \"%H:%M:%S\").time()), (datetime.strptime(y[1].split(\" \")[1], \"%H:%M:%S\").strftime(\"%H\")) ])"
   ]
  },
  {
   "cell_type": "code",
   "execution_count": null,
   "metadata": {},
   "outputs": [],
   "source": [
    "nyny = nyny1.map(lambda y: [y[0],y[1],y[2],y[2]-y[1],y[3],y[4],y[5],y[6],y[7],y[8],y[9],y[10],y[11],y[12],y[13],y[14],y[15],y[16],y[17],y[18],y[19],y[20],y[21],y[22],y[23]])\n",
    "njnj = njnj1.map(lambda y: [y[0],y[1],y[2],y[2]-y[1],y[3],y[4],y[5],y[6],y[7],y[8],y[9],y[10],y[11],y[12],y[13],y[14],y[15],y[16],y[17],y[18],y[19],y[20],y[21],y[22],y[23]])\n",
    "nynj = nynj1.map(lambda y: [y[0],y[1],y[2],y[2]-y[1],y[3],y[4],y[5],y[6],y[7],y[8],y[9],y[10],y[11],y[12],y[13],y[14],y[15],y[16],y[17],y[18],y[19],y[20],y[21],y[22],y[23]])\n",
    "njny = njny1.map(lambda y: [y[0],y[1],y[2],y[2]-y[1],y[3],y[4],y[5],y[6],y[7],y[8],y[9],y[10],y[11],y[12],y[13],y[14],y[15],y[16],y[17],y[18],y[19],y[20],y[21],y[22],y[23]])"
   ]
  },
  {
   "cell_type": "code",
   "execution_count": null,
   "metadata": {},
   "outputs": [],
   "source": [
    "#Avg Tip in every hour of the day NYNY\n",
    "tripInHr = nyny.map(lambda y: [y[24],float(y[15])])\n",
    "countsKey = sc.broadcast(tripInHr.countByKey())\n",
    "tripInHr = tripInHr.reduceByKey(operator.add) # Calculate the numerators (i.e. the SUMs).\n",
    "tripInHr = tripInHr.map(lambda x: (x[0], x[1]/countsKey.value[x[0]])) # Divide each SUM by it's denominator (i.e. COUNT)\n",
    "tripInHr1 = tripInHr.sortByKey()\n",
    "print tripInHr1.collect()\n",
    "\n",
    "#Plotting above findings\n",
    "names = sorted(tripInHr1.keys().collect())\n",
    "values = tripInHr1.values().collect()\n",
    "r1 = np.arange(len(names))\n",
    "plt.grid(True)\n",
    "plt.plot(r1, values)\n",
    "plt.xlabel('Hours', fontweight='bold')\n",
    "plt.ylabel('Mean Tip Collected - NYNY', fontweight='bold')\n",
    "plt.xticks([r for r in range(len(names))], names)\n",
    "plt.show()"
   ]
  },
  {
   "cell_type": "code",
   "execution_count": null,
   "metadata": {},
   "outputs": [],
   "source": [
    "#Avg Tip in every hours slots of the day NYNJ\n",
    "nynjTipDur = nynj.map(lambda y: [y[24],float(y[15])])\n",
    "countsKey = sc.broadcast(nynjTipDur.countByKey())\n",
    "nynjTipDur = nynjTipDur.reduceByKey(operator.add) # Calculate the numerators (i.e. the SUMs).\n",
    "nynjTipDur = nynjTipDur.map(lambda x: (x[0], x[1]/countsKey.value[x[0]])) # Divide each SUM by it's denominator (i.e. COUNT)\n",
    "nynjTipDur1 = nynjTipDur.sortByKey()\n",
    "print nynjTipDur1.collect()\n",
    "\n",
    "#Plotting above findings\n",
    "names = sorted(nynjTipDur1.keys().collect())\n",
    "values = nynjTipDur1.values().collect()\n",
    "r1 = np.arange(len(names))\n",
    "plt.grid(True)\n",
    "plt.plot(r1, values)\n",
    "plt.xlabel('Hours', fontweight='bold')\n",
    "plt.ylabel('Mean Tip Collected NYNJ', fontweight='bold')\n",
    "plt.xticks([r for r in range(len(names))], names)\n",
    "plt.show()"
   ]
  },
  {
   "cell_type": "code",
   "execution_count": null,
   "metadata": {},
   "outputs": [],
   "source": [
    "#Avg Tip in every hours slots of the day NYNJ\n",
    "nynjTipDur = nynj.map(lambda y: [y[24],float(y[15])])\n",
    "countsKey = sc.broadcast(nynjTipDur.countByKey())\n",
    "nynjTipDur = nynjTipDur.reduceByKey(operator.add) # Calculate the numerators (i.e. the SUMs).\n",
    "nynjTipDur = nynjTipDur.map(lambda x: (x[0], x[1]/countsKey.value[x[0]])) # Divide each SUM by it's denominator (i.e. COUNT)\n",
    "nynjTipDur1 = nynjTipDur.sortByKey()\n",
    "print nynjTipDur1.collect()\n",
    "\n",
    "#Plotting above findings\n",
    "names = sorted(nynjTipDur1.keys().collect())\n",
    "values = nynjTipDur1.values().collect()\n",
    "r1 = np.arange(len(names))\n",
    "plt.grid(True)\n",
    "plt.plot(r1, values)\n",
    "plt.xlabel('Hours', fontweight='bold')\n",
    "plt.ylabel('Mean Tip Collected NYNJ', fontweight='bold')\n",
    "plt.xticks([r for r in range(len(names))], names)\n",
    "plt.show()"
   ]
  },
  {
   "cell_type": "code",
   "execution_count": null,
   "metadata": {},
   "outputs": [],
   "source": [
    "#Avg Tip in every hours slots of the day NJNJ\n",
    "njnjTipDur = njnj.map(lambda y: [y[24],float(y[15])])\n",
    "countsKey = sc.broadcast(njnjTipDur.countByKey())\n",
    "njnjTipDur = njnjTipDur.reduceByKey(operator.add) # Calculate the numerators (i.e. the SUMs).\n",
    "njnjTipDur = njnjTipDur.map(lambda x: (x[0], x[1]/countsKey.value[x[0]])) # Divide each SUM by it's denominator (i.e. COUNT)\n",
    "njnjTipDur1 = njnjTipDur.sortByKey()\n",
    "print njnjTipDur1.collect()\n",
    "\n",
    "#Plotting above findings\n",
    "names = sorted(njnjTipDur1.keys().collect())\n",
    "values = njnjTipDur1.values().collect()\n",
    "r1 = np.arange(len(names))\n",
    "plt.grid(True)\n",
    "plt.plot(r1, values)\n",
    "plt.xlabel('Hours', fontweight='bold')\n",
    "plt.ylabel('Mean Tip Collected NJNJ', fontweight='bold')\n",
    "plt.xticks([r for r in range(len(names))], names)\n",
    "plt.show()"
   ]
  },
  {
   "cell_type": "code",
   "execution_count": null,
   "metadata": {},
   "outputs": [],
   "source": [
    "#Avg Tip in every hours slots of the day NJNY\n",
    "njnyTipDur = njny.map(lambda y: [y[24],float(y[15])])\n",
    "countsKey = sc.broadcast(njnyTipDur.countByKey())\n",
    "njnyTipDur = njnyTipDur.reduceByKey(operator.add) # Calculate the numerators (i.e. the SUMs).\n",
    "njnyTipDur = njnyTipDur.map(lambda x: (x[0], x[1]/countsKey.value[x[0]])) # Divide each SUM by it's denominator (i.e. COUNT)\n",
    "njnyTipDur1 = njnyTipDur.sortByKey()\n",
    "print njnyTipDur1.collect()\n",
    "\n",
    "#Plotting above findings\n",
    "names = sorted(njnyTipDur1.keys().collect())\n",
    "values = njnyTipDur1.values().collect()\n",
    "r1 = np.arange(len(names))\n",
    "plt.grid(True)\n",
    "plt.plot(r1, values)\n",
    "plt.xlabel('Hours', fontweight='bold')\n",
    "plt.ylabel('Mean Tip Collected NJNY', fontweight='bold')\n",
    "plt.xticks([r for r in range(len(names))], names)\n",
    "plt.show()"
   ]
  },
  {
   "cell_type": "code",
   "execution_count": null,
   "metadata": {},
   "outputs": [],
   "source": [
    "#Avg total amount earned in every hour of the day NYNY\n",
    "\n",
    "nynyTot= nyny.map(lambda y: [y[24],float(y[19])])\n",
    "countsKey = sc.broadcast(nynyTot.countByKey())\n",
    "nynyTot = nynyTot.reduceByKey(operator.add) # Calculate the numerators (i.e. the SUMs).\n",
    "nynyTot = nynyTot.map(lambda x: (x[0], x[1]/countsKey.value[x[0]])) # Divide each SUM by it's denominator (i.e. COUNT)\n",
    "nynyTot1 = nynyTot.sortByKey()\n",
    "print nynyTot1.collect()\n",
    "\n",
    "#Plotting above findings\n",
    "names = sorted(nynyTot1.keys().collect())\n",
    "values = nynyTot1.values().collect()\n",
    "r1 = np.arange(len(names))\n",
    "plt.grid(True)\n",
    "plt.plot(r1, values)\n",
    "plt.xlabel('Hours', fontweight='bold')\n",
    "plt.ylabel('Average Revenue - NYNY', fontweight='bold')\n",
    "plt.xticks([r for r in range(len(names))], names)\n",
    "plt.show()"
   ]
  },
  {
   "cell_type": "code",
   "execution_count": null,
   "metadata": {},
   "outputs": [],
   "source": [
    "#Avg total amount earned in every hour of the day NYNJ\n",
    "\n",
    "nynjTot2= nynj.map(lambda y: [y[24],float(y[19])])\n",
    "countsKey = sc.broadcast(nynjTot2.countByKey())\n",
    "nynjTot2 = nynjTot2.reduceByKey(operator.add) # Calculate the numerators (i.e. the SUMs).\n",
    "nynjTot2 = nynjTot2.map(lambda x: (x[0], x[1]/countsKey.value[x[0]])) # Divide each SUM by it's denominator (i.e. COUNT)\n",
    "nynjTot21 = nynjTot2.sortByKey()\n",
    "print nynjTot21.collect()\n",
    "\n",
    "#Plotting above findings\n",
    "names = sorted(nynjTot21.keys().collect())\n",
    "values = nynjTot21.values().collect()\n",
    "r1 = np.arange(len(names))\n",
    "plt.grid(True)\n",
    "plt.plot(r1, values)\n",
    "plt.xlabel('Hours', fontweight='bold')\n",
    "plt.ylabel('Average Revenue - NYNJ', fontweight='bold')\n",
    "plt.xticks([r for r in range(len(names))], names)\n",
    "plt.show()"
   ]
  },
  {
   "cell_type": "code",
   "execution_count": null,
   "metadata": {},
   "outputs": [],
   "source": [
    "#Avg total amount earned in every hour of the day NJNJ\n",
    "\n",
    "njnjTot3= njnj.map(lambda y: [y[24],float(y[19])])\n",
    "countsKey = sc.broadcast(njnjTot3.countByKey())\n",
    "njnjTot3 = njnjTot3.reduceByKey(operator.add) # Calculate the numerators (i.e. the SUMs).\n",
    "njnjTot3 = njnjTot3.map(lambda x: (x[0], x[1]/countsKey.value[x[0]])) # Divide each SUM by it's denominator (i.e. COUNT)\n",
    "njnjTot31 = njnjTot3.sortByKey()\n",
    "print njnjTot31.collect()\n",
    "\n",
    "#Plotting above findings\n",
    "names = sorted(njnjTot31.keys().collect())\n",
    "values = njnjTot31.values().collect()\n",
    "r1 = np.arange(len(names))\n",
    "plt.grid(True)\n",
    "plt.plot(r1, values)\n",
    "plt.xlabel('Hours', fontweight='bold')\n",
    "plt.ylabel('Average Revenue - NJNJ', fontweight='bold')\n",
    "plt.xticks([r for r in range(len(names))], names)\n",
    "plt.show()"
   ]
  },
  {
   "cell_type": "code",
   "execution_count": null,
   "metadata": {},
   "outputs": [],
   "source": [
    "#Avg total amount earned in every hour of the day NJNY\n",
    "\n",
    "njnyTot= njny.map(lambda y: [y[24],float(y[19])])\n",
    "countsKey = sc.broadcast(njnyTot.countByKey())\n",
    "njnyTot = njnyTot.reduceByKey(operator.add) # Calculate the numerators (i.e. the SUMs).\n",
    "njnyTot = njnyTot.map(lambda x: (x[0], x[1]/countsKey.value[x[0]])) # Divide each SUM by it's denominator (i.e. COUNT)\n",
    "njnyTot1 = njnyTot.sortByKey().collect()\n",
    "print njnyTot1\n",
    "\n",
    "#Plotting above findings\n",
    "names = sorted(njnyTot.keys().collect())\n",
    "values = njnyTot.values().collect()\n",
    "r1 = np.arange(len(names))\n",
    "plt.grid(True)\n",
    "plt.plot(r1, values)\n",
    "plt.xlabel('Hours', fontweight='bold')\n",
    "plt.ylabel('Average Revenue - NJNY', fontweight='bold')\n",
    "plt.xticks([r for r in range(len(names))], names)\n",
    "plt.show()"
   ]
  },
  {
   "cell_type": "code",
   "execution_count": null,
   "metadata": {},
   "outputs": [],
   "source": [
    "#Avg  tip earned for each day of the day NJNY\n",
    "nynyTipDAY= nyny.map(lambda y: [y[22],float(y[15])])\n",
    "countsKey = sc.broadcast(nynyTipDAY.countByKey())\n",
    "nynyTipDAY = nynyTipDAY.reduceByKey(operator.add) # Calculate the numerators (i.e. the SUMs).\n",
    "nynyTipDAY = nynyTipDAY.map(lambda x: (x[0], x[1]/countsKey.value[x[0]])) # Divide each SUM by it's denominator (i.e. COUNT)\n",
    "nynyTipDAY1 = nynyTipDAY.sortByKey()\n",
    "print nynyTipDAY1.collect()\n",
    "\n",
    "comp2 = nynyTipDAY1.keys().collect()\n",
    "comp2Val = nynyTipDAY1.values().collect()\n",
    "\n",
    "r1 = np.arange(len(comp2))\n",
    "\n",
    "plt.bar(r1+1, comp2Val, color='#7f6d5f', width=0.5, edgecolor='white', label='comp1')\n",
    "plt.xlabel('DAYS', fontweight='bold')\n",
    "plt.ylabel('Average Tip - NYNY', fontweight='bold')\n",
    "\n",
    "\n",
    "plt.show()"
   ]
  },
  {
   "cell_type": "code",
   "execution_count": null,
   "metadata": {},
   "outputs": [],
   "source": []
  },
  {
   "cell_type": "code",
   "execution_count": null,
   "metadata": {},
   "outputs": [],
   "source": [
    "sc.stop()"
   ]
  },
  {
   "cell_type": "code",
   "execution_count": 7,
   "metadata": {},
   "outputs": [],
   "source": [
    "ss.stop()"
   ]
  },
  {
   "cell_type": "code",
   "execution_count": null,
   "metadata": {},
   "outputs": [],
   "source": []
  }
 ],
 "metadata": {
  "kernelspec": {
   "display_name": "Python 2",
   "language": "python",
   "name": "python2"
  },
  "language_info": {
   "codemirror_mode": {
    "name": "ipython",
    "version": 2
   },
   "file_extension": ".py",
   "mimetype": "text/x-python",
   "name": "python",
   "nbconvert_exporter": "python",
   "pygments_lexer": "ipython2",
   "version": "2.7.9"
  }
 },
 "nbformat": 4,
 "nbformat_minor": 2
}
