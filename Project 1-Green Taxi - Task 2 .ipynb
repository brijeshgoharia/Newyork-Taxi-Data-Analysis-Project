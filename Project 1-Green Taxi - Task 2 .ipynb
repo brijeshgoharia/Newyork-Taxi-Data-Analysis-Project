{
 "cells": [
  {
   "cell_type": "code",
   "execution_count": 1,
   "metadata": {},
   "outputs": [],
   "source": [
    "import findspark\n",
    "findspark.init()\n",
    "import pyspark"
   ]
  },
  {
   "cell_type": "code",
   "execution_count": 2,
   "metadata": {},
   "outputs": [],
   "source": [
    "import os\n",
    "port = 4040 + hash(os.getcwd().split(\"/\")[2])%200\n",
    "\n",
    "config = pyspark.SparkConf().set('spark.executor.memory', '512M')\\\n",
    "            .set('spark.cores.max', '10')\\\n",
    "            .set('spark.port.maxRetries','200')\\\n",
    "            .set('spark.ui.port', port)\\\n",
    "            .set('spark.master', 'spark://polyp1:7077')\\\n",
    "            .set('spark.app.name', \"structuredComputation\")\n",
    "\n",
    "#sc = pyspark.SparkContext(conf = config)\n",
    "ss = pyspark.sql.SparkSession.builder.config(conf = config).getOrCreate()\n",
    "\n",
    "# print ss.conf.get('spark.app.name')\n",
    "# print ss.conf.get('spark.master')"
   ]
  },
  {
   "cell_type": "code",
   "execution_count": 3,
   "metadata": {},
   "outputs": [],
   "source": [
    "#Task 2: Build Data Frame of the given data\n",
    "from pyspark.sql import SparkSession\n",
    "spark = SparkSession.builder.appName(\"dates\").getOrCreate()\n",
    "df2 = spark.read.csv(\"/scratch/ISE495/taxi_data/green_tripdata_2015-09.csv\",header = False,inferSchema = True)"
   ]
  },
  {
   "cell_type": "code",
   "execution_count": 4,
   "metadata": {},
   "outputs": [
    {
     "name": "stdout",
     "output_type": "stream",
     "text": [
      "+---+-------------------+-------------------+---+---+------------------+------------------+------------------+------------------+---+----+----+----+----+----+----+----+----+----+----+----+\n",
      "|_c0|                _c1|                _c2|_c3|_c4|               _c5|               _c6|               _c7|               _c8|_c9|_c10|_c11|_c12|_c13|_c14|_c15|_c16|_c17|_c18|_c19|_c20|\n",
      "+---+-------------------+-------------------+---+---+------------------+------------------+------------------+------------------+---+----+----+----+----+----+----+----+----+----+----+----+\n",
      "|  2|2015-09-01 00:02:34|2015-09-01 00:02:38|  N|  5|-73.97948455810547| 40.68495559692383|-73.97943115234375|40.685020446777344|  1| 0.0| 7.8| 0.0| 0.0|1.95| 0.0|null| 0.0|9.75|   1|   2|\n",
      "|  2|2015-09-01 00:04:20|2015-09-01 00:04:24|  N|  5|-74.01079559326172| 40.91221618652344|-74.01078033447266| 40.91221237182617|  1| 0.0|45.0| 0.0| 0.0| 0.0| 0.0|null| 0.0|45.0|   1|   2|\n",
      "|  2|2015-09-01 00:01:50|2015-09-01 00:04:24|  N|  1| -73.9214096069336| 40.76670837402344|-73.91441345214844|40.764686584472656|  1|0.59| 4.0| 0.5| 0.5| 0.5| 0.0|null| 0.3| 5.8|   1|   1|\n",
      "|  2|2015-09-01 00:02:36|2015-09-01 00:06:42|  N|  1|   -73.92138671875| 40.76667785644531|-73.93142700195312|40.771583557128906|  1|0.74| 5.0| 0.5| 0.5| 0.0| 0.0|null| 0.3| 6.3|   2|   1|\n",
      "|  2|2015-09-01 00:00:14|2015-09-01 00:04:20|  N|  1|-73.95548248291016|40.714046478271484|-73.94441223144531| 40.71472930908203|  1|0.61| 5.0| 0.5| 0.5| 0.0| 0.0|null| 0.3| 6.3|   2|   1|\n",
      "|  2|2015-09-01 00:00:39|2015-09-01 00:05:20|  N|  1|-73.94529724121094| 40.80818557739258|-73.93766784667969|40.821197509765625|  1|1.07| 5.5| 0.5| 0.5|1.36| 0.0|null| 0.3|8.16|   1|   1|\n",
      "|  2|2015-09-01 00:00:52|2015-09-01 00:05:50|  N|  1|-73.89087677001953| 40.74642562866211|-73.87692260742188| 40.75630569458008|  1|1.43| 6.5| 0.5| 0.5| 0.0| 0.0|null| 0.3| 7.8|   1|   1|\n",
      "|  2|2015-09-01 00:02:15|2015-09-01 00:05:34|  N|  1|-73.94670104980469| 40.79732131958008| -73.9376449584961| 40.80451583862305|  1| 0.9| 5.0| 0.5| 0.5| 0.0| 0.0|null| 0.3| 6.3|   2|   1|\n",
      "|  2|2015-09-01 00:02:36|2015-09-01 00:07:20|  N|  1|-73.96315002441406| 40.69382858276367|  -73.956787109375|  40.6805305480957|  1|1.33| 6.0| 0.5| 0.5|1.46| 0.0|null| 0.3|8.76|   1|   1|\n",
      "|  2|2015-09-01 00:02:13|2015-09-01 00:07:23|  N|  1|-73.89682006835938| 40.74612808227539|-73.88862609863281|40.752723693847656|  1|0.84| 5.5| 0.5| 0.5| 0.0| 0.0|null| 0.3| 6.8|   2|   1|\n",
      "|  2|2015-09-01 00:01:12|2015-09-01 00:05:03|  N|  1|-73.82991790771484|40.713768005371094|-73.83494567871094| 40.70729064941406|  2| 0.8| 5.0| 0.5| 0.5| 0.0| 0.0|null| 0.3| 6.3|   2|   1|\n",
      "|  2|2015-09-01 00:04:00|2015-09-01 00:06:06|  N|  1| -73.9055404663086|40.772525787353516| -73.8953628540039| 40.76896286010742|  1| 0.7| 4.0| 0.5| 0.5|1.06| 0.0|null| 0.3|6.36|   1|   1|\n",
      "|  2|2015-09-01 00:03:06|2015-09-01 00:07:40|  N|  1|  -73.941650390625|40.818294525146484|  -73.950927734375| 40.82603073120117|  1|1.01| 5.5| 0.5| 0.5| 0.0| 0.0|null| 0.3| 6.8|   2|   1|\n",
      "|  2|2015-09-01 00:05:01|2015-09-01 00:07:11|  N|  1|-73.93252563476562| 40.85680389404297|-73.93136596679688|40.856117248535156|  1|0.39| 3.5| 0.5| 0.5| 0.0| 0.0|null| 0.3| 4.8|   2|   1|\n",
      "|  2|2015-09-01 00:04:59|2015-09-01 00:07:27|  N|  1|-73.95282745361328|40.808353424072266|-73.94914245605469| 40.80290985107422|  1|0.56| 4.0| 0.5| 0.5| 0.0| 0.0|null| 0.3| 5.3|   2|   1|\n",
      "|  2|2015-09-01 00:00:58|2015-09-01 00:07:54|  N|  1|  -73.904052734375| 40.87870788574219|-73.89696502685547| 40.90113067626953|  1| 1.8| 7.5| 0.5| 0.5| 0.0| 0.0|null| 0.3| 8.8|   2|   1|\n",
      "|  2|2015-09-01 00:01:09|2015-09-01 00:08:23|  N|  1|-74.02134704589844|40.647010803222656|-74.00405883789062| 40.65459442138672|  1|1.46| 7.5| 0.5| 0.5| 0.0| 0.0|null| 0.3| 8.8|   2|   1|\n",
      "|  2|2015-09-01 00:04:02|2015-09-01 00:07:20|  N|  1|-73.95098876953125| 40.68049621582031| -73.9539566040039| 40.69042205810547|  1|0.88| 5.0| 0.5| 0.5|1.26| 0.0|null| 0.3|7.56|   1|   1|\n",
      "|  2|2015-09-01 00:00:17|2015-09-01 00:07:29|  N|  1|-73.84967041015625| 40.72400665283203|-73.83512878417969| 40.70719909667969|  1|1.73| 7.5| 0.5| 0.5| 0.0| 0.0|null| 0.3| 8.8|   2|   1|\n",
      "|  2|2015-09-01 00:01:32|2015-09-01 00:07:27|  N|  1| -73.9466781616211| 40.80628967285156|-73.93624877929688|40.799251556396484|  1|0.82| 5.5| 0.5| 0.5| 0.0| 0.0|null| 0.3| 6.8|   2|   1|\n",
      "+---+-------------------+-------------------+---+---+------------------+------------------+------------------+------------------+---+----+----+----+----+----+----+----+----+----+----+----+\n",
      "only showing top 20 rows\n",
      "\n"
     ]
    }
   ],
   "source": [
    "df2.show()"
   ]
  },
  {
   "cell_type": "code",
   "execution_count": 5,
   "metadata": {},
   "outputs": [
    {
     "name": "stdout",
     "output_type": "stream",
     "text": [
      "root\n",
      " |-- _c0: integer (nullable = true)\n",
      " |-- _c1: timestamp (nullable = true)\n",
      " |-- _c2: timestamp (nullable = true)\n",
      " |-- _c3: string (nullable = true)\n",
      " |-- _c4: integer (nullable = true)\n",
      " |-- _c5: double (nullable = true)\n",
      " |-- _c6: double (nullable = true)\n",
      " |-- _c7: double (nullable = true)\n",
      " |-- _c8: double (nullable = true)\n",
      " |-- _c9: integer (nullable = true)\n",
      " |-- _c10: double (nullable = true)\n",
      " |-- _c11: double (nullable = true)\n",
      " |-- _c12: double (nullable = true)\n",
      " |-- _c13: double (nullable = true)\n",
      " |-- _c14: double (nullable = true)\n",
      " |-- _c15: double (nullable = true)\n",
      " |-- _c16: string (nullable = true)\n",
      " |-- _c17: double (nullable = true)\n",
      " |-- _c18: double (nullable = true)\n",
      " |-- _c19: integer (nullable = true)\n",
      " |-- _c20: integer (nullable = true)\n",
      "\n"
     ]
    }
   ],
   "source": [
    "df2.printSchema()"
   ]
  },
  {
   "cell_type": "code",
   "execution_count": 6,
   "metadata": {},
   "outputs": [
    {
     "name": "stdout",
     "output_type": "stream",
     "text": [
      "root\n",
      " |-- VendorID: integer (nullable = true)\n",
      " |-- lpep_pickup_datetime: timestamp (nullable = true)\n",
      " |-- Lpep_dropoff_datetime: timestamp (nullable = true)\n",
      " |-- Store_and_fwd_flag: string (nullable = true)\n",
      " |-- RateCodeID: integer (nullable = true)\n",
      " |-- Pickup_longitude: double (nullable = true)\n",
      " |-- Pickup_latitude: double (nullable = true)\n",
      " |-- Dropoff_longitude: double (nullable = true)\n",
      " |-- Dropoff_latitude: double (nullable = true)\n",
      " |-- Passenger_count: integer (nullable = true)\n",
      " |-- Trip_distance: double (nullable = true)\n",
      " |-- Fare_amount: double (nullable = true)\n",
      " |-- Extra: double (nullable = true)\n",
      " |-- MTA_tax: double (nullable = true)\n",
      " |-- Tip_amount: double (nullable = true)\n",
      " |-- Tolls_amount: double (nullable = true)\n",
      " |-- Ehail_fee: string (nullable = true)\n",
      " |-- improvement_surcharge: double (nullable = true)\n",
      " |-- Total_amount: double (nullable = true)\n",
      " |-- Payment_type: integer (nullable = true)\n",
      " |-- Trip_type: integer (nullable = true)\n",
      "\n",
      "+--------+--------------------+---------------------+------------------+----------+------------------+------------------+------------------+------------------+---------------+-------------+-----------+-----+-------+----------+------------+---------+---------------------+------------+------------+---------+\n",
      "|VendorID|lpep_pickup_datetime|Lpep_dropoff_datetime|Store_and_fwd_flag|RateCodeID|  Pickup_longitude|   Pickup_latitude| Dropoff_longitude|  Dropoff_latitude|Passenger_count|Trip_distance|Fare_amount|Extra|MTA_tax|Tip_amount|Tolls_amount|Ehail_fee|improvement_surcharge|Total_amount|Payment_type|Trip_type|\n",
      "+--------+--------------------+---------------------+------------------+----------+------------------+------------------+------------------+------------------+---------------+-------------+-----------+-----+-------+----------+------------+---------+---------------------+------------+------------+---------+\n",
      "|       2| 2015-09-01 00:02:34|  2015-09-01 00:02:38|                 N|         5|-73.97948455810547| 40.68495559692383|-73.97943115234375|40.685020446777344|              1|          0.0|        7.8|  0.0|    0.0|      1.95|         0.0|     null|                  0.0|        9.75|           1|        2|\n",
      "|       2| 2015-09-01 00:04:20|  2015-09-01 00:04:24|                 N|         5|-74.01079559326172| 40.91221618652344|-74.01078033447266| 40.91221237182617|              1|          0.0|       45.0|  0.0|    0.0|       0.0|         0.0|     null|                  0.0|        45.0|           1|        2|\n",
      "|       2| 2015-09-01 00:01:50|  2015-09-01 00:04:24|                 N|         1| -73.9214096069336| 40.76670837402344|-73.91441345214844|40.764686584472656|              1|         0.59|        4.0|  0.5|    0.5|       0.5|         0.0|     null|                  0.3|         5.8|           1|        1|\n",
      "|       2| 2015-09-01 00:02:36|  2015-09-01 00:06:42|                 N|         1|   -73.92138671875| 40.76667785644531|-73.93142700195312|40.771583557128906|              1|         0.74|        5.0|  0.5|    0.5|       0.0|         0.0|     null|                  0.3|         6.3|           2|        1|\n",
      "|       2| 2015-09-01 00:00:14|  2015-09-01 00:04:20|                 N|         1|-73.95548248291016|40.714046478271484|-73.94441223144531| 40.71472930908203|              1|         0.61|        5.0|  0.5|    0.5|       0.0|         0.0|     null|                  0.3|         6.3|           2|        1|\n",
      "|       2| 2015-09-01 00:00:39|  2015-09-01 00:05:20|                 N|         1|-73.94529724121094| 40.80818557739258|-73.93766784667969|40.821197509765625|              1|         1.07|        5.5|  0.5|    0.5|      1.36|         0.0|     null|                  0.3|        8.16|           1|        1|\n",
      "|       2| 2015-09-01 00:00:52|  2015-09-01 00:05:50|                 N|         1|-73.89087677001953| 40.74642562866211|-73.87692260742188| 40.75630569458008|              1|         1.43|        6.5|  0.5|    0.5|       0.0|         0.0|     null|                  0.3|         7.8|           1|        1|\n",
      "|       2| 2015-09-01 00:02:15|  2015-09-01 00:05:34|                 N|         1|-73.94670104980469| 40.79732131958008| -73.9376449584961| 40.80451583862305|              1|          0.9|        5.0|  0.5|    0.5|       0.0|         0.0|     null|                  0.3|         6.3|           2|        1|\n",
      "|       2| 2015-09-01 00:02:36|  2015-09-01 00:07:20|                 N|         1|-73.96315002441406| 40.69382858276367|  -73.956787109375|  40.6805305480957|              1|         1.33|        6.0|  0.5|    0.5|      1.46|         0.0|     null|                  0.3|        8.76|           1|        1|\n",
      "|       2| 2015-09-01 00:02:13|  2015-09-01 00:07:23|                 N|         1|-73.89682006835938| 40.74612808227539|-73.88862609863281|40.752723693847656|              1|         0.84|        5.5|  0.5|    0.5|       0.0|         0.0|     null|                  0.3|         6.8|           2|        1|\n",
      "|       2| 2015-09-01 00:01:12|  2015-09-01 00:05:03|                 N|         1|-73.82991790771484|40.713768005371094|-73.83494567871094| 40.70729064941406|              2|          0.8|        5.0|  0.5|    0.5|       0.0|         0.0|     null|                  0.3|         6.3|           2|        1|\n",
      "|       2| 2015-09-01 00:04:00|  2015-09-01 00:06:06|                 N|         1| -73.9055404663086|40.772525787353516| -73.8953628540039| 40.76896286010742|              1|          0.7|        4.0|  0.5|    0.5|      1.06|         0.0|     null|                  0.3|        6.36|           1|        1|\n",
      "|       2| 2015-09-01 00:03:06|  2015-09-01 00:07:40|                 N|         1|  -73.941650390625|40.818294525146484|  -73.950927734375| 40.82603073120117|              1|         1.01|        5.5|  0.5|    0.5|       0.0|         0.0|     null|                  0.3|         6.8|           2|        1|\n",
      "|       2| 2015-09-01 00:05:01|  2015-09-01 00:07:11|                 N|         1|-73.93252563476562| 40.85680389404297|-73.93136596679688|40.856117248535156|              1|         0.39|        3.5|  0.5|    0.5|       0.0|         0.0|     null|                  0.3|         4.8|           2|        1|\n",
      "|       2| 2015-09-01 00:04:59|  2015-09-01 00:07:27|                 N|         1|-73.95282745361328|40.808353424072266|-73.94914245605469| 40.80290985107422|              1|         0.56|        4.0|  0.5|    0.5|       0.0|         0.0|     null|                  0.3|         5.3|           2|        1|\n",
      "|       2| 2015-09-01 00:00:58|  2015-09-01 00:07:54|                 N|         1|  -73.904052734375| 40.87870788574219|-73.89696502685547| 40.90113067626953|              1|          1.8|        7.5|  0.5|    0.5|       0.0|         0.0|     null|                  0.3|         8.8|           2|        1|\n",
      "|       2| 2015-09-01 00:01:09|  2015-09-01 00:08:23|                 N|         1|-74.02134704589844|40.647010803222656|-74.00405883789062| 40.65459442138672|              1|         1.46|        7.5|  0.5|    0.5|       0.0|         0.0|     null|                  0.3|         8.8|           2|        1|\n",
      "|       2| 2015-09-01 00:04:02|  2015-09-01 00:07:20|                 N|         1|-73.95098876953125| 40.68049621582031| -73.9539566040039| 40.69042205810547|              1|         0.88|        5.0|  0.5|    0.5|      1.26|         0.0|     null|                  0.3|        7.56|           1|        1|\n",
      "|       2| 2015-09-01 00:00:17|  2015-09-01 00:07:29|                 N|         1|-73.84967041015625| 40.72400665283203|-73.83512878417969| 40.70719909667969|              1|         1.73|        7.5|  0.5|    0.5|       0.0|         0.0|     null|                  0.3|         8.8|           2|        1|\n",
      "|       2| 2015-09-01 00:01:32|  2015-09-01 00:07:27|                 N|         1| -73.9466781616211| 40.80628967285156|-73.93624877929688|40.799251556396484|              1|         0.82|        5.5|  0.5|    0.5|       0.0|         0.0|     null|                  0.3|         6.8|           2|        1|\n",
      "+--------+--------------------+---------------------+------------------+----------+------------------+------------------+------------------+------------------+---------------+-------------+-----------+-----+-------+----------+------------+---------+---------------------+------------+------------+---------+\n",
      "only showing top 20 rows\n",
      "\n"
     ]
    }
   ],
   "source": [
    "# Change Header Names of the columns in Data Frame:\n",
    "oldColumns = df2.schema.names\n",
    "newColumns = [\"VendorID\",\"lpep_pickup_datetime\",\"Lpep_dropoff_datetime\",\"Store_and_fwd_flag\",\"RateCodeID\",\"Pickup_longitude\",\"Pickup_latitude\",\"Dropoff_longitude\",\"Dropoff_latitude\",\"Passenger_count\",\"Trip_distance\",\"Fare_amount\",\"Extra\",\"MTA_tax\",\"Tip_amount\",\"Tolls_amount\",\"Ehail_fee\",\"improvement_surcharge\",\"Total_amount\",\"Payment_type\",\"Trip_type\"]\n",
    "\n",
    "df3 = reduce(lambda df2, idx: df2.withColumnRenamed(oldColumns[idx], newColumns[idx]), xrange(len(oldColumns)), df2)\n",
    "df3.printSchema()\n",
    "df3.show()"
   ]
  },
  {
   "cell_type": "code",
   "execution_count": 7,
   "metadata": {},
   "outputs": [],
   "source": [
    "df3.createOrReplaceTempView(\"taxiTable\")"
   ]
  },
  {
   "cell_type": "code",
   "execution_count": 8,
   "metadata": {},
   "outputs": [
    {
     "name": "stdout",
     "output_type": "stream",
     "text": [
      "+----------+\n",
      "|RateCodeID|\n",
      "+----------+\n",
      "|         1|\n",
      "|         6|\n",
      "|         3|\n",
      "|         5|\n",
      "|         4|\n",
      "|         2|\n",
      "|        99|\n",
      "+----------+\n",
      "\n",
      "None\n"
     ]
    }
   ],
   "source": [
    "# Task 2.1: Average Fare Amount by RateCodeID\n",
    "\n",
    "jfk = ss.sql(\"SELECT DISTINCT RateCodeID FROM taxiTable\")\n",
    "print jfk.show()"
   ]
  },
  {
   "cell_type": "code",
   "execution_count": 15,
   "metadata": {},
   "outputs": [
    {
     "name": "stdout",
     "output_type": "stream",
     "text": [
      "+----------+------------------+\n",
      "|RateCodeID|  avg(Fare_amount)|\n",
      "+----------+------------------+\n",
      "|         1|12.244825220837368|\n",
      "|         6| 2.138888888888889|\n",
      "|         3| 48.79856759176365|\n",
      "|         5|18.082432312995323|\n",
      "|         4| 60.16488648648648|\n",
      "|         2|49.021871476888386|\n",
      "|        99|12.183333333333332|\n",
      "+----------+------------------+\n",
      "\n",
      "None\n"
     ]
    }
   ],
   "source": [
    "AvgFareAmtRateCodeID = df3.groupBy(\"RateCodeID\").agg({'Fare_amount':'Average'})\n",
    "print AvgFareAmtRateCodeID.show()"
   ]
  },
  {
   "cell_type": "code",
   "execution_count": 16,
   "metadata": {},
   "outputs": [],
   "source": [
    "# Task 2.2: Airport Statistics:\n",
    "     # Task 2.2.1: Number of rides per airport\n",
    "     # Task 2.2.2: Footfall - jfk & newark - (number of passengers)\n",
    "     # Task 2.2.3: Footfall - jfk & newark -  (Avg passenger count)\n",
    "    # Task 2.2.4:  jfk & newark -  'passenger count' frequency by airport (trip counts for no. of passengers (eg. 1 passenger rides, 2 passenger rides)"
   ]
  },
  {
   "cell_type": "code",
   "execution_count": 17,
   "metadata": {},
   "outputs": [
    {
     "name": "stdout",
     "output_type": "stream",
     "text": [
      "+----------+-----------------+\n",
      "|RateCodeID|count(RateCodeID)|\n",
      "+----------+-----------------+\n",
      "|         3|             1117|\n",
      "|         2|             4435|\n",
      "+----------+-----------------+\n",
      "\n",
      "None\n"
     ]
    }
   ],
   "source": [
    "# Task 2.2.1: Number of rides per airport\n",
    "from pyspark.sql.functions import col, asc\n",
    "df4 =  df3.filter((col(\"RateCodeID\")==\"2\")|(col(\"RateCodeID\")==\"3\")).groupBy(\"RateCodeID\").agg({'RateCodeID':'count'})\n",
    "print df4.show()"
   ]
  },
  {
   "cell_type": "code",
   "execution_count": 18,
   "metadata": {},
   "outputs": [
    {
     "name": "stdout",
     "output_type": "stream",
     "text": [
      "+----------+--------------------+\n",
      "|RateCodeID|sum(Passenger_count)|\n",
      "+----------+--------------------+\n",
      "|         3|                1560|\n",
      "|         2|                5937|\n",
      "+----------+--------------------+\n",
      "\n",
      "None\n"
     ]
    }
   ],
   "source": [
    "# Task 2.2.2: Footfall - jfk & newark - (number of passengers)\n",
    "df5 =  df3.filter((col(\"RateCodeID\")==\"2\")|(col(\"RateCodeID\")==\"3\")).groupBy(\"RateCodeID\").agg({'Passenger_count':'sum'})\n",
    "print df5.show()"
   ]
  },
  {
   "cell_type": "code",
   "execution_count": 20,
   "metadata": {},
   "outputs": [
    {
     "name": "stdout",
     "output_type": "stream",
     "text": [
      "+----------+--------------------+\n",
      "|RateCodeID|avg(Passenger_count)|\n",
      "+----------+--------------------+\n",
      "|         3|   1.396598030438675|\n",
      "|         2|  1.3386696730552423|\n",
      "+----------+--------------------+\n",
      "\n",
      "None\n"
     ]
    }
   ],
   "source": [
    "# Task 2.2.3: Footfall - jfk & newark - (Avg of passengers)\n",
    "df5 =  df3.filter((col(\"RateCodeID\")==\"2\")|(col(\"RateCodeID\")==\"3\")).groupBy(\"RateCodeID\").agg({'Passenger_count':'average'})\n",
    "print df5.show()"
   ]
  },
  {
   "cell_type": "code",
   "execution_count": 21,
   "metadata": {},
   "outputs": [
    {
     "name": "stdout",
     "output_type": "stream",
     "text": [
      "+---------------+----------------------+\n",
      "|Passenger_count|count(Passenger_count)|\n",
      "+---------------+----------------------+\n",
      "|              0|                     1|\n",
      "|              1|                  3690|\n",
      "|              2|                   450|\n",
      "|              3|                    78|\n",
      "|              4|                    19|\n",
      "|              5|                   145|\n",
      "|              6|                    52|\n",
      "+---------------+----------------------+\n",
      "\n",
      "None\n"
     ]
    }
   ],
   "source": [
    "# Task 2.2.4:  jfk  -  'passenger count' frequency by airport (trip counts for no. of passengers (eg. 1 passenger rides, 2 passenger rides)\n",
    "jfkPASSCNT =  df3.filter(col(\"RateCodeID\")==\"2\").groupBy(\"Passenger_count\").agg({'Passenger_count':'count'})\n",
    "jfkPASSCNT1 = jfkPASSCNT.sort(\"Passenger_count\",ascending = True)\n",
    "print jfkPASSCNT1.show()"
   ]
  },
  {
   "cell_type": "code",
   "execution_count": 22,
   "metadata": {},
   "outputs": [
    {
     "name": "stdout",
     "output_type": "stream",
     "text": [
      "+---------------+----------------------+\n",
      "|Passenger_count|count(Passenger_count)|\n",
      "+---------------+----------------------+\n",
      "|              0|                     3|\n",
      "|              1|                   902|\n",
      "|              2|                   119|\n",
      "|              3|                    26|\n",
      "|              4|                     5|\n",
      "|              5|                    50|\n",
      "|              6|                    12|\n",
      "+---------------+----------------------+\n",
      "\n",
      "None\n"
     ]
    }
   ],
   "source": [
    "# Task 2.2.4: newark(ewr) -  'passenger count' frequency by airport (trip counts for no. of passengers (eg. 1 passenger rides, 2 passenger rides)\n",
    "ewrPASSCNT =  df3.filter(col(\"RateCodeID\")==\"3\").groupBy(\"Passenger_count\").agg({'Passenger_count':'count'})\n",
    "ewrPASSCNT1 = ewrPASSCNT.sort(\"Passenger_count\",ascending = True)\n",
    "print ewrPASSCNT1.show()"
   ]
  },
  {
   "cell_type": "code",
   "execution_count": 8,
   "metadata": {},
   "outputs": [],
   "source": [
    "from pyspark.sql.functions import format_number,dayofmonth,hour,dayofyear,month,year,weekofyear,date_format"
   ]
  },
  {
   "cell_type": "code",
   "execution_count": 11,
   "metadata": {},
   "outputs": [
    {
     "name": "stdout",
     "output_type": "stream",
     "text": [
      "+--------------------------------+------------------+\n",
      "|dayofmonth(lpep_pickup_datetime)|   avg(Tip_amount)|\n",
      "+--------------------------------+------------------+\n",
      "|                               1| 1.157276730921966|\n",
      "|                               2|1.2257408345615415|\n",
      "|                               3|1.2168314314066098|\n",
      "|                               4|1.2084189511433254|\n",
      "|                               5|1.1289811147563424|\n",
      "|                               6|1.0957841236376002|\n",
      "|                               7|1.1577241723506955|\n",
      "|                               8| 1.195500255825858|\n",
      "|                               9|1.2705117899822609|\n",
      "|                              10|1.2496369941760872|\n",
      "|                              11|1.2891907290141817|\n",
      "|                              12|1.2688144021982883|\n",
      "|                              13|1.2539606225456748|\n",
      "|                              14|1.1721332176841344|\n",
      "|                              15|1.1968545604742784|\n",
      "|                              16|1.2471805057235648|\n",
      "|                              17|1.3078052197582313|\n",
      "|                              18|1.2977675235066184|\n",
      "|                              19| 1.343813132791016|\n",
      "|                              20|1.3084360463082914|\n",
      "|                              21|1.2453880187384765|\n",
      "|                              22|1.2042953939482974|\n",
      "|                              23|1.2299613805834313|\n",
      "|                              24|1.2259683282705103|\n",
      "|                              25|1.1706112956810706|\n",
      "|                              26| 1.276211543738783|\n",
      "|                              27|1.2900065626367325|\n",
      "|                              28|1.2142163234099568|\n",
      "|                              29|1.2308386387578503|\n",
      "|                              30|1.2687901218674984|\n",
      "+--------------------------------+------------------+\n",
      "\n"
     ]
    }
   ],
   "source": [
    "#Average tip calculated for each day\n",
    "df3v2 = df3.groupBy(dayofmonth(df3[\"lpep_pickup_datetime\"])).agg({\"Tip_amount\":'average'})\n",
    "df3v2.sort(\"dayofmonth(lpep_pickup_datetime)\",ascending=True).show(31)"
   ]
  },
  {
   "cell_type": "code",
   "execution_count": 12,
   "metadata": {},
   "outputs": [
    {
     "name": "stdout",
     "output_type": "stream",
     "text": [
      "+--------------------------+------------------+\n",
      "|hour(lpep_pickup_datetime)| avg(Total_amount)|\n",
      "+--------------------------+------------------+\n",
      "|                         0|15.052440066709117|\n",
      "|                         1|14.505001022819105|\n",
      "|                         2|14.482007476454758|\n",
      "|                         3|14.839847661188882|\n",
      "|                         4|15.723967983651521|\n",
      "|                         5|17.715533532933957|\n",
      "|                         6| 17.47073454802146|\n",
      "|                         7|15.874489256277892|\n",
      "|                         8|15.663039090987107|\n",
      "|                         9|15.408813097522996|\n",
      "|                        10| 14.89791275144532|\n",
      "|                        11|14.755747565636481|\n",
      "|                        12|14.706189908004136|\n",
      "|                        13|14.606718339510806|\n",
      "|                        14|14.732148235930708|\n",
      "|                        15|14.892425417136774|\n",
      "|                        16|15.425989868237759|\n",
      "|                        17|15.007077435187716|\n",
      "|                        18|14.642485063500024|\n",
      "|                        19|14.554941908239499|\n",
      "|                        20| 14.27840447210526|\n",
      "|                        21|14.855117802711568|\n",
      "|                        22|15.527859276312427|\n",
      "|                        23|15.471020865969418|\n",
      "+--------------------------+------------------+\n",
      "\n"
     ]
    }
   ],
   "source": [
    "#Average tip calculated for every hour \n",
    "tipHour = df3.groupBy(hour(df3[\"lpep_pickup_datetime\"])).agg({\"Total_amount\":'average'})\n",
    "tipHour.sort(\"hour(lpep_pickup_datetime)\",ascending=True).show(24)"
   ]
  },
  {
   "cell_type": "code",
   "execution_count": 13,
   "metadata": {},
   "outputs": [
    {
     "name": "stdout",
     "output_type": "stream",
     "text": [
      "+--------------------------------+------------------+\n",
      "|dayofmonth(lpep_pickup_datetime)| sum(Total_amount)|\n",
      "+--------------------------------+------------------+\n",
      "|                              19|1059257.5600003442|\n",
      "|                              12|1015901.0000008264|\n",
      "|                              26| 994744.2600007713|\n",
      "|                              18| 885568.3900005366|\n",
      "|                               5| 882249.4200005603|\n",
      "|                              11| 881832.7600005448|\n",
      "|                              20|  879678.740000546|\n",
      "|                              13| 838903.9000004525|\n",
      "|                              27| 837646.7000004852|\n",
      "|                               4| 825679.7299997478|\n",
      "|                              10| 798203.1399997436|\n",
      "|                               6| 789113.0100003557|\n",
      "|                              25| 784947.7899997325|\n",
      "|                              17| 761206.5600002861|\n",
      "|                               3| 724530.8400001999|\n",
      "|                               9| 719978.6200001697|\n",
      "|                              16| 708916.6099997985|\n",
      "|                              30| 688290.8600001535|\n",
      "|                               2| 654487.2600000313|\n",
      "|                               8| 646527.0900000333|\n",
      "|                              29| 641263.3500000488|\n",
      "|                              21| 638552.2700000089|\n",
      "|                               7| 629594.9199998683|\n",
      "|                              28| 620795.1499998091|\n",
      "|                               1| 613840.4999999487|\n",
      "|                              15| 599983.9999999442|\n",
      "|                              23| 595246.1599999325|\n",
      "|                              22| 593278.7199999292|\n",
      "|                              24| 584328.0699999081|\n",
      "|                              14| 577398.1399998966|\n",
      "+--------------------------------+------------------+\n",
      "\n"
     ]
    }
   ],
   "source": [
    "#Total revenue calculated for each day \n",
    "RevenueDay = df3.groupBy(dayofmonth(df3[\"lpep_pickup_datetime\"])).agg({\"Total_amount\":'sum'})\n",
    "RevenueDay.sort(\"sum(Total_amount)\",ascending=False).show(30)"
   ]
  },
  {
   "cell_type": "code",
   "execution_count": 14,
   "metadata": {},
   "outputs": [],
   "source": [
    "ss.stop()"
   ]
  },
  {
   "cell_type": "code",
   "execution_count": null,
   "metadata": {},
   "outputs": [],
   "source": [
    "sc.stop()"
   ]
  }
 ],
 "metadata": {
  "kernelspec": {
   "display_name": "Python 2",
   "language": "python",
   "name": "python2"
  },
  "language_info": {
   "codemirror_mode": {
    "name": "ipython",
    "version": 2
   },
   "file_extension": ".py",
   "mimetype": "text/x-python",
   "name": "python",
   "nbconvert_exporter": "python",
   "pygments_lexer": "ipython2",
   "version": "2.7.9"
  }
 },
 "nbformat": 4,
 "nbformat_minor": 2
}
